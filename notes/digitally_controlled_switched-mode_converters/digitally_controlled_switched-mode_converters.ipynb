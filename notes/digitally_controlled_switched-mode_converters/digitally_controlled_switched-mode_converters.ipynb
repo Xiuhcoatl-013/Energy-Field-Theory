{
 "cells": [
  {
   "cell_type": "markdown",
   "metadata": {},
   "source": [
    "# Digitally Controlled Switched-Mode Converters"
   ]
  },
  {
   "cell_type": "markdown",
   "metadata": {},
   "source": [
    "## Introduction\n",
    "\n",
    "Efficient processing and control of electric power is required in applications ranging from submilliwatt on-chip power management to hundreds of kilowatt and megawatt power levels in motor drives and utility applications. The objectives of high efficiency, as well as static and dynamic control of inputs or outputs under a range of operating conditions, are accomplished using power electronics, that is, switched-mode power converters consisting of passive (capacitive and inductive) components, and power semiconductor devices operated as switches. In high-power applications, control and monitoring tasks are often more complex, while the power semiconductor devices are operated at relatively low switching frequencies, for example, up to tens of kilohertz.\n",
    "The controller cost and power consumption are relatively low compared to the overall system cost and power rating. In these applications, digital control offers clear technical and economic advantages in addressing complex control, management, and monitoring tasks. As a result, for many years now, digital control methods and digital controllers based on general-purpose or dedicated microprocessors, digital signal processors (DSPs), or programmable logic devices have been widely adopted in power electronics applications at relatively high power levels.\n",
    "\n",
    "In ubiquitous low-to-medium power switched-mode power supply (SMPS) applications, including point-of-load (POL) regulators, nonisolated and isolated dc–dc converters, single-phase power factor correction (PFC) rectifiers, single-phase inverters, and lighting applications, adoption of digital power management and digital control has been slower. In these applications, switching frequencies are often in the range from hundreds of kilohertz to multiple megahertz, and much faster dynamic responses are required. The controller cost and the controller power consumption can easily present significant portions of the system cost and power dissipation. Furthermore, in many applications, control challenges have been successfully met by continuous advances of readily available analog controllers, using well-established analog analysis, modeling, and design techniques.\n",
    "\n",
    "Nevertheless, practical digital control of high-frequency switched-mode power converters has moved from proof-of-concept demonstrations to digital pulse width modulation (DPWM) controller chips commercially available from multiple vendors, with growing adoption rates in many applications. Several factors have contributed to the increasing penetration of the concept of “digital power” in high-frequency power electronics applications:\n",
    "\n",
    "* Ongoing advances in digital integrated-circuit processes have continued to increase processing capabilities while bringing the cost down.\n",
    "\n",
    "* The needs for improved system integration and increasingly complex power management and monitoring functions have translated into the needs for digital interfaces and programmability in switched-mode power conversion applications.\n",
    "\n",
    "* Practical high-performance digital control techniques have been introduced and demonstrated, together with innovative approaches offering performance gains or entirely new capabilities that would be difficult or impractical to realize using traditional analog techniques.\n",
    "\n",
    "The “digital power” concept encompasses several aspects:\n",
    "\n",
    "1. Digital power management, which refers to system-level control and monitoring of power conversion and distribution, usually over a serial communication bus. Power management functions include turning on and off or sequencing system power rails, adjusting setpoints for converter control loops, programming control loop parameters, monitoring and reporting of measured status or variables, and so on. These functions are typically performed at timescales that are relatively long compared to a switching period.\n",
    "\n",
    "2. Digital control, which includes time-domain and frequency-domain converter modeling and control techniques, with control actions performed at timescales comparable to a switching period.\n",
    "\n",
    "3. Digital implementation techniques, which can be classified into two main groups:\n",
    "\n",
    " * Software-based controllers, where control algorithms are designed and implemented in code executed on general-purpose or specialized microcontrollers or DSP chips.\n",
    "\n",
    " * Hardware-based controllers, based on custom-integrated circuits or programmable logic devices such as field-programmable gate arrays (FPGAs). \n",
    " \n",
    "This lecture notes are focused on the fundamental aspects of analysis, modeling, and design of digital control loops around high-frequency switched-mode power converters in a systematic and rigorous manner. The objectives are\n",
    "to enable the reader to understand, analyze, model, design, and implement digital feedback loops around power converters, from system level transfer function formulations to practical implementation details.\n",
    "\n",
    "Furthermore, these introductory notes points to some of the more advanced digital techniques reported in the literature, including approaches to dynamic\n",
    "response improvements, system identification, autotuning of digital control loops, and on-line efficiency optimization."
   ]
  },
  {
   "cell_type": "markdown",
   "metadata": {},
   "source": [
    "## Digitally Controlled Switched-Mode Converters\n",
    "\n",
    "A number of DPWM controller architectures and implementation strategies have been investigated and realized in practice. Many standard microcontrollers and DSP chips are now available, featuring multiple high-resolution PWM and analog-to-digital (A/D) channels, which allow software-based implementation of control and management functions.\n",
    "\n",
    "While advances in this area have been rapid, the software-based approaches are still better suited for applications where switching converters operate at relatively low switching frequencies. On the other hand, at switching frequencies in the hundreds of kilohertz to megahertz range, specialized hardware-based control loops are often preferred. This approach is illustrated in the architecture shown in Fig. 1. The control loop is digital, using specialized, programmable A/D, DPWM, and compensator blocks to achieve high-performance closed-loop dynamic responses, while programmability, power management, and system interface functions are delegated to a microcontroller core. Similar combinations of programmable hardware peripherals specialized for switched-mode power converter applications, with software-based realizations of higher-level management and communication functions are often found in commercially available DPWM controllers.\n",
    "\n",
    "<br><br/>\n",
    "<p align=\"center\"><img src=\"images/digital_controller_architecture.png\" style=\"width:70%\"></p>\n",
    "<center> Fig. 1.$\\quad$ Digital controller architecture for high-frequency switched-mode power converters. </center>\n",
    "<br><br/>\n",
    "<br><br/>\n",
    "\n",
    "Controllers of the type shown in Fig. 1 can be developed, realized, and tested using standard digital VLSI design flow starting from logic functions described using hardware description language (VHDL or Verilog), followed by prototyping and experimental verifications using FPGA development platforms, ultimately targeting relatively small,relatively low-gate-count integrated circuits capable of matching or surpassing the state-of-the-art analog solutions in terms of dynamic performance, power consumption, and cost. At the same time, digital PWM controllers offer digital system interface, programmability and flexibility, power management functions, reductions in the number of passive components, reduced sensitivity to process and temperature variations, and potentials for practical realizations of more advanced  features. \n",
    "\n",
    "A more detailed block diagram of a hardware-based digital controller around a point-of-load (POL) synchronous Buck converter is shown in [Figure 2]. \n",
    "\n",
    "<br><br/>\n",
    "<p align=\"center\"><img src=\"images/digitally_controlled_point-of-load_regulator.png\" style=\"width:90%\"></p>\n",
    "<center> Fig. 2.$\\quad$ Digitally controlled point-of-load (POL) synchronous Buck dc–dc converter example. An additional injection-based autotuning block is also shown. </center>\n",
    "<br><br/>\n",
    "<br><br/>\n",
    "\n",
    "Output voltage $v_{o}(t)$ is sampled by an A/D converter and compared to a setpoint reference $V_{\\mathrm{m} /}$ to produce a digital voltage error signal $e[k] .$ The error signal is processed by a discrete-time digital proportional-integral-derivative (PID) compensator to generate a duty cycle command $u_{z}|k| .$ In the basic version of the controller, the compensator gains $K_{p^{*}} K_{i}$ and $K_{d}$ are found by design to meet control loop specifications, such as the crossover frequency and phase margin.\n",
    "\n",
    "Once a compensator is designed. the gains can be realized using digital multipliers, as shown in Fig. 2. As only a few bits are sufficient to represent the error signal $e[k]$, the entire compensator can also be implemented as a lookup table. In a more advanced case, as illustrated by the digital autotuner block in [Fig. 2], the compensator gains can be tuned in response to the actual system dynamics to meet the desired specifications. Finally, a DPWM block generates the complementary gate-drive control signals $c(t)$ and $c^{\\prime}(t)$ with duty cycle set by the digital command and with appropriate dead times. Together with various enhancements. such a controller can be realized in about 10,000 equivalent logic gates, which translates to about one-third of a square millimeter in a standard $0.35 \\mu \\mathrm{m}$ CMOS process. Furthermore, higher-density CMOS processes with high-voltage extensions suitable for power electronics applications are now readily available, making power and cost-effective digital controllers for high-frequency switched-mode power conventers a reality."
   ]
  },
  {
   "cell_type": "markdown",
   "metadata": {},
   "source": [
    "## Analysis, Modeling, and Control Techniques\n",
    "\n",
    "Referring to the example in Fig. 2. one may observe that the basic digital control loop is conceptually similar to the standard voltage-mode analog PWM control loop, with analog control techniques based on averaged converter models. \n",
    "\n",
    "\n",
    "However as discussed further in the notes, digital control differs from analog control in two key aspects: time quantization and amplitude quantization. Time quantization refers to the fact that the controller is a discrete-time system that processes sampled versions of sensed analog signals to be regulated and produces a discrete-time control output. In order to design high-performance control loops, it is necessary to understand and consider the resulting delays and aliasing effects. \n",
    "\n",
    "The use of continuous-time averaged modeling for designing digital loops, an approach often employed in practice, can only account for sampling effects and digital control delays in an approximate manner. A more rigorous approach is based on discrete-time modeling. This modeling approach enables direct-digital design of compensator transfer functions. The design spocifications are presented in frequency domain, in terms of the quantities familiar to the analog designer: the loop-gain crossover frequency $f_{c}$ and the phase margin $\\varphi_{m}$"
   ]
  },
  {
   "cell_type": "markdown",
   "metadata": {},
   "source": [
    "## "
   ]
  }
 ],
 "metadata": {
  "kernelspec": {
   "display_name": "Python 3",
   "language": "python",
   "name": "python3"
  },
  "language_info": {
   "codemirror_mode": {
    "name": "ipython",
    "version": 3
   },
   "file_extension": ".py",
   "mimetype": "text/x-python",
   "name": "python",
   "nbconvert_exporter": "python",
   "pygments_lexer": "ipython3",
   "version": "3.7.6"
  }
 },
 "nbformat": 4,
 "nbformat_minor": 4
}
