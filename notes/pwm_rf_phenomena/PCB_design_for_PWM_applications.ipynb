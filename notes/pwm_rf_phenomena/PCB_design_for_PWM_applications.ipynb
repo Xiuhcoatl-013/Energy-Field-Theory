{
 "cells": [
  {
   "cell_type": "markdown",
   "metadata": {},
   "source": [
    "# PCB Design for Pulse Width Modulation Applications\n",
    "\n",
    "With the variety of systems that use pulse width modulation, PCB designers should keep some design tips in mind when designing their boards."
   ]
  },
  {
   "cell_type": "markdown",
   "metadata": {},
   "source": [
    "# What is Pulse Width Modulation?\n",
    "\n",
    "The term pulse width modulation refers to a method used to adjust the ON time of a digital pulse in a pulse train while keeping the total pulse period constant. In other words, the ON time for pulses in a pulse train is adjusted while the sum of the ON time and OFF time remains unchanged. As the ON time increases, the OFF time must decrease by the same amount, and vice versa. The ratio of the on time to the sum of ON time and OFF time is called the duty cycle.\n",
    "\n",
    "You can make a simple pulse wave modulation generator with a 555 or 7555 timer, or with a microcontroller. You can also generate a PWM signal with astable multivibrator, or with a triangle wave generator and a comparator. You will need to modulate either a varistor or the input voltage to control the duty cycle of your pulse width modulation signal."
   ]
  },
  {
   "cell_type": "markdown",
   "metadata": {},
   "source": [
    "# Pulse Width Modulation Applications\n",
    "\n",
    "A train of pulses with applied pulse width modulation has uses in a number of control applications. Two broad pulse width modulation application areas are in regulation for power electronics and in electromechanical systems. Pulse width modulation is also used in telecommunications to carry serial data, as well as in Class D audio amplifiers and subtractive synthesizers.\n",
    "\n",
    "In the realm of power supplies, pulse width modulation is used to control the rate at which a transistor switches in a switching regulator as part of the regulation feedback loop. Pulse width modulation is used to set the duty cycle for a square wave, and this modulated series of pulses is used to control the switching rate. This will either step up (boost mode) or step down (buck mode) the output voltage from the power supply\n",
    "\n",
    "\n",
    "# figure 5cf932212e3a9.jpg\n",
    "Power supply components on a PCB\n",
    "\n",
    "Fans used for thermal regulation in electronic systems and motors also use pulse width modulation to control their rotation rate, as well as for acceleration or deceleration. When working with motors, your pulse width modulation signal should have a sloped rise time in order to prevent the motor from producing a clicking sound as they are driven."
   ]
  },
  {
   "cell_type": "markdown",
   "metadata": {},
   "source": [
    "# Some Layout Guidelines for PCBs with Pulse Width Modulation\n",
    "\n",
    "One important point to note when designing a PCB for use in pulse width modulation applications relates to crosstalk and radiated EMI. Some designers think of high speed circuits as being related to the rate at which a signal switches from ON to OFF. If this at the traces and components carrying pulse width Unfortunately, this is not correct.\n",
    "\n",
    "High speed digital signals are classified based on the rise time of the signal, not the amount of time the signal remains in the ON or OFF state. The rise time of the pulse width modulation signal does not change with duty cycle and instead depends on the logic family used in the system. The TTL logic family is widely regarded as a high speed signalling family, thus it is required to keep high speed design rules in mind when laying out the board.\n",
    "\n",
    "Ensure that traces are terminated or impedance controlled throughout the board, and try to keep trace lengths as short as possible to avoid transmission line effects when working with high frequency signals and high speed signals. In the case where the use of long transmission lines is unavoidable, designers may want to shield low level traces from the trace carrying the pulse width modulation signal. Alternatively, sensitive digital signals could be routed in an interior layer in stripline configuration. Another option is to route sensitive digital signals as differential pairs if possible.\n",
    "\n",
    "As PCBs that use pulse width modulation may also have some analog elements (e.g., motors and power inverters), it is important to separate analog and digital components into different sections of the board. Digital components are relatively immune to signals induced from low current analog signals, but the reverse is not true. Separating your board into digital and analog sections is just one mixed-signal design technique designers will need to implement in these kind of systems.\n",
    "\n",
    "\n",
    "# figure 5cf932167e52f.jpg\n",
    "Copper coils in a brushless motor"
   ]
  },
  {
   "cell_type": "markdown",
   "metadata": {},
   "source": [
    "# Addressing EMI in PWM-Driven Circuits\n",
    "\n",
    "If working with a motor or switching regulator, pay attention to conducted or radiated EMI creating interference in nearby traces. EMI from the regulator in a switching power supply can be strong enough to interfere with nearby digital circuits when the supply outputs high current. Inductive motors driven with pulse width modulation can induce common-mode noise via conducted EMI into nearby circuits, which may affect your EMC rating.\n",
    "\n",
    "Reducing radiated EMI requires using techniques such as shielding, guard traces, or simple chassis grounding around the EMI-generating system to prevent radiation from reaching digital traces. Traces near the source of radiated EMI can also be shielded using a ground plane rather than a shielding can. One simple method for reducing conducted EMI involves placing a __capacitor__ across the output terminals of the aggressor device; this capacitor should be placed as close as possible to the terminals.\n",
    "\n",
    "Designing a system for pulse width modulation applications turns easier when considering a good suite of design and simulation tools for such purpose."
   ]
  },
  {
   "cell_type": "markdown",
   "metadata": {},
   "source": [
    "# Now the question is; how to convert a PWM to (relatively) smooth DC power?\n",
    "\n",
    "## Comparison for a few solutions by considering complementary circuits when designing\n",
    ": \n",
    "\n",
    "   __Just put a capacitor onto it.__\n",
    "    This by it self, seems like a very poor solution, if somebody can even call it that. For one thing; it messes up the PWM control, i.e. 80% PWM won't be 80% effectively. Also remains the concerned about reverse current: during the off-portion of every duty cycle the capacitor will put voltage on the MCU/switching element, which is supplying the PWM signal/power.\n",
    "    \n",
    "   __Capacitor with resistor in series.__\n",
    "    The resistor is added to slow down the charging of the capacitor. Again, same reverse current concerns as before.\n",
    "    \n",
    "   __Capacitor with inductor in series.__\n",
    "    Understand that inductors resist changes in current (current inertia phenomena) and capacitors resist changes in voltage (voltage inertia phenomena). It could be seen how those two would make a good team here. Again, same worried about reverse current and also inductive spikes. Might need to add a diode in parallel with the inductor to allow the current to circulate back if the load is suddenly removed.\n",
    "    \n",
    "   __Capacitor with inductor in series and a freewheeling (schottky) diode placed in parallel over both [e.g. buck converter].__\n",
    "    This seems to be best way to do it (but the expensive one), then wonder if it is really necessary.  Probably will need to place the solution in-line on a motor fan wires, or near a MCU, so the more compact (portable) It could be the better."
   ]
  },
  {
   "cell_type": "code",
   "execution_count": null,
   "metadata": {},
   "outputs": [],
   "source": []
  }
 ],
 "metadata": {
  "kernelspec": {
   "display_name": "Python 3",
   "language": "python",
   "name": "python3"
  },
  "language_info": {
   "codemirror_mode": {
    "name": "ipython",
    "version": 3
   },
   "file_extension": ".py",
   "mimetype": "text/x-python",
   "name": "python",
   "nbconvert_exporter": "python",
   "pygments_lexer": "ipython3",
   "version": "3.7.3"
  }
 },
 "nbformat": 4,
 "nbformat_minor": 4
}
