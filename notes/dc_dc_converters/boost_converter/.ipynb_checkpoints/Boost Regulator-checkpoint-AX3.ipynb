{
 "cells": [
  {
   "cell_type": "markdown",
   "metadata": {},
   "source": [
    "# Boost Converter"
   ]
  },
  {
   "cell_type": "markdown",
   "metadata": {},
   "source": [
    "\n",
    "\n",
    "### Inductor Resistance\n",
    "\n",
    "Inductors should be designed to have small resistance to minimize power loss and maximize efficiency. The existence of a small inductor resistance does not substantially change the analysis of other kind of regulators, buck converter as example. However, inductor resistance affects performance of the boost converter, especially at high duty ratios.\n",
    "\n",
    "For the boost converter, recall that the voltage transfer function for the ideal case is:\n",
    "\n",
    "### $ \\frac{V_{x}}{V_{o}}=\\frac{1}{1-D} $\n"
   ]
  },
  {
   "cell_type": "code",
   "execution_count": null,
   "metadata": {},
   "outputs": [],
   "source": []
  },
  {
   "cell_type": "code",
   "execution_count": null,
   "metadata": {},
   "outputs": [],
   "source": []
  }
 ],
 "metadata": {
  "kernelspec": {
   "display_name": "Python 3",
   "language": "python",
   "name": "python3"
  },
  "language_info": {
   "codemirror_mode": {
    "name": "ipython",
    "version": 3
   },
   "file_extension": ".py",
   "mimetype": "text/x-python",
   "name": "python",
   "nbconvert_exporter": "python",
   "pygments_lexer": "ipython3",
   "version": "3.7.3"
  }
 },
 "nbformat": 4,
 "nbformat_minor": 2
}
