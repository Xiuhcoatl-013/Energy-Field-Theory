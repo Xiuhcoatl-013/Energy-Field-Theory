{
 "cells": [
  {
   "cell_type": "markdown",
   "metadata": {},
   "source": [
    "# DC-DC Converters Introduction"
   ]
  },
  {
   "cell_type": "markdown",
   "metadata": {},
   "source": [
    "## Converter Classification\n",
    "\n",
    "The objective of a power electronics circuit is to match the voltage and current requirements\n",
    "of the load to those of the source. Power electronics circuits convert one type or level of a voltage or current waveform to another and are hence called converters. Converters serve as an interface between the source and load (Fig. 1-1).\n",
    "\n",
    "<br><br/>\n",
    "<p align=\"center\"><img src=\"images/source_and_load_interfaced_by_a_power_electronics_converter.png\" style=\"width:30%\"></p>\n",
    "<center> Figure. 1-1.$\\quad$ A source and load interfaced by a power electronics converter. </center>\n",
    "<br><br/>\n",
    "<br><br/>\n",
    "\n",
    "Converters are classified by the relationship between input and output:\n",
    "\n",
    "> __ac input/dc output__\n",
    "The ac-dc converter produces a dc output from an ac input. Average power is transferred from an ac source to a dc load. The ac-dc converter is specifically classified as a rectifier. For example, an ac-dc converter enables integrated circuits to operate from a 60-Hz ac line voltage by converting the ac signal to a dc signal of the appropriate voltage.\n",
    "\n",
    "> __dc input/ac output__\n",
    "The dc-ac converter is specifically classified as an inverter. In the inverter, average power flows from the dc side to the ac side. Examples of inverter applications include producing a 120-V rms 60-Hz voltage from a 12-V battery and interfacing an alternative energy source such as an array of\n",
    "solar cells to an electric utility.\n",
    "\n",
    "> __dc input/dc output__\n",
    "The dc-dc converter is useful when a load requires a specified (often regulated) dc voltage or current but the source is at a different or unregulated dc value. For example, 5 V may be obtained from a 12-V source via a dc-dc converter.\n",
    "\n",
    "> __ac input/ac output__\n",
    "The ac-ac converter may be used to change the level and/or frequency of an ac signal. Examples include a common light-dimmer circuit and speed control of an induction motor.\n",
    "\n",
    "Some converter circuits can operate in different modes, depending on circuit and control parameters. For example, some rectifier circuits can be operated as inverters by modifying the control on the semiconductor devices. In such cases, it is the direction of average power flow that determines the converter classification. In Fig. 1-2, if the battery is charged from the ac power source, the converter is classified as a rectifier. If the operating parameters of the converter are changed and the battery acts as a source supplying power to the ac system, the converter\n",
    "is then classified as an inverter.\n",
    "\n",
    "<br><br/>\n",
    "<p align=\"center\"><img src=\"images/rectifier_or_inverter.png\" style=\"width:30%\"></p>\n",
    "<center> Figure. 1-2.$\\quad$ A converter can operate as a rectifier or an inverter, depending on the direction of average power P. </center>\n",
    "<br><br/>\n",
    "<br><br/>\n",
    "\n",
    "Power conversion can be a multistep process involving more than one type of converter. For example, an ac-dc-ac conversion can be used to modify an ac source by first converting it to direct current and then converting the dc signal to an ac signal that has an amplitude and frequency different from those of the original ac source, as illustrated in Fig. 1-3.\n",
    "\n",
    "<br><br/>\n",
    "<p align=\"center\"><img src=\"images/converters_in_multistep_process.png\" style=\"width:39%\"></p>\n",
    "<center> Figure. 1-3.$\\quad$ Two converters are used in a multistep process. </center>\n",
    "<br><br/>\n",
    "<br><br/>"
   ]
  },
  {
   "cell_type": "code",
   "execution_count": null,
   "metadata": {},
   "outputs": [],
   "source": []
  },
  {
   "cell_type": "code",
   "execution_count": null,
   "metadata": {},
   "outputs": [],
   "source": []
  },
  {
   "cell_type": "code",
   "execution_count": null,
   "metadata": {},
   "outputs": [],
   "source": []
  },
  {
   "cell_type": "markdown",
   "metadata": {},
   "source": [
    "# Power Electronic Concepts\n",
    "\n",
    "To illustrate some concepts in power electronics, consider the design problem of creating a $3-\\mathrm{V}$ de voltage level from a $9-\\mathrm{V}$ battery. The purpose is to supply $3 \\mathrm{V}$ to a load resistance. One simple solution is to use a voltage divider, as shown in Fig. $1-4 .$ For a load resistor $R_{L},$ inserting a series resistance of $2 R_{L}$ results in $3 \\mathrm{V}$ across $R_{L} .$ A problem with this solution is that the power absorbed by the $2 R_{L}$ resistor is twice as much as delivered to the load and is lost as heat, making the circuit only 33.3 percent efficient. Another problem is that if the value of the load resistance changes, the output voltage will change unless the $2 R_{L}$ resistance changes proportionally. A solution to that problem could be to use a transistor in place of the $2 R_{L}$ resistance. The transistor would be controlled such that the voltage across it is maintained at $6 \\mathrm{V}$, thus regulating the output at $3 \\mathrm{V}$. However, the same low-efficiency problem is encountered with this solution.\n",
    "\n",
    "To arrive at a more desirable design solution, consider the circuit in Fig. $1-5 a$ In that circuit, a switch is opened and closed periodically. The switch is a short circuit when it is closed and an open circuit when it is open, making the voltage\n",
    "\n",
    "#\n",
    "Figure $1-4$ A simple voltage divider for creating $3 \\mathrm{V}$ from a $9-\\mathrm{V}$ source.\n",
    "\n",
    "#\n",
    "Figure 1-5 (a) A switched circuit; (b) a pulsed voltage waveform.\n",
    "\n",
    "across $R_{L}$ equal to $9 \\mathrm{V}$ when the switch is closed and $0 \\mathrm{V}$ when the switch is open. The resulting voltage across $R_{L}$ will be like that of Fig. $1-5 b$. This voltage is obviously not a constant de voltage, but if the switch is closed for one-third of the period, the average value of $v_{x}$ (denoted as $V_{x}$ ) is one-third of the source voltage. Average value is computed from the equation\n",
    "$$\n",
    "\\operatorname{avg}\\left(v_{x}\\right)=V_{x}=\\frac{1}{T} \\int_{0}^{T} v_{x}(t) d t=\\frac{1}{T} \\int_{0}^{T / 3} 9 d t+\\frac{1}{T} \\int_{T / 3}^{T} 0 d t=3 \\mathrm{V}\n",
    "$$\n",
    "Considering efficiency of the circuit, instantaneous power (see Chap. 2) absorbed by the switch is the product of voltage and current. When the switch is open, power absorbed by it is zero because the current in it is zero. When the switch is closed, power absorbed by it is zero because the voltage across it is zero. since power absorbed by the switch is zero for both open and closed conditions, all power supplied by the $9-\\mathrm{V}$ source is delivered to $R_{L},$ making the circuit 100 percent efficient.\n",
    "\n",
    "The circuit so far does not accomplish the design object of creating a dc voltage of 3 V. However, the voltage waveform $v_{x}$ can be expressed as a Fourier series containing a dc term (the average value) plus sinusoidal terms at frequencies that are multiples of the pulse frequency. To create a $3-\\mathrm{V}$ de voltage, $v_{x}$ is applied to a low-pass filter. An ideal low-pass filter allows the dc component of voltage to pass through to the output while removing the ac terms, thus creating the desired de output. If the filter is lossless, the converter will be 100 percent efficient.\n",
    "\n",
    "#\n",
    "Figure $1-6$ A low-pass filter allows just the average value of $v_{x}$ to pass through to the load.\n",
    "\n",
    "#\n",
    "Figure 1-7 Feedback is used to control the switch and maintain the desired output voltage.\n",
    "\n",
    "In practice, the filter will have some losses and will absorb some power. Additionally, the electronic device used for the switch will not be perfect and will have losses. However, the efficiency of the converter can still be quite high (more than 90 percent). The required values of the filter components can be made smaller with higher switching frequencies, making large switching frequencies desirable. 6 and 7 describe the de-de conversion process in detail. The \"switch\" in this example will be some electronic device such as a metal-oxide field-effect transistors (MOSFET), or it may be comprised of more than one electronic device.\n",
    "\n",
    "The power conversion process usually involves system control. Converter output quantities such as voltage and current are measured, and operating parameters are adjusted to maintain the desired output. For example, if the 9 - $V$ battery in the example in Fig. $1-6$ decreased to $6 \\mathrm{V},$ the switch would have to be closed 50 percent of the time to maintain an average value of $3 \\mathrm{V}$ for $v_{x^{*}}$. A feedback control system would detect if the output voltage were not $3 \\mathrm{V}$ and adjust the closing and opening of the switch accordingly, as illustrated in Fig. $1-7$.\n"
   ]
  },
  {
   "cell_type": "markdown",
   "metadata": {},
   "source": [
    "# (CHAPTER 6 HART) DC-DC Converters\n",
    "\n",
    "\n",
    "Dc-dc converters are power electronic circuits that convert a dc voltage to a different dc voltage level, often providing a regulated output. The circuits described in this chapter are classified as switched-mode dc-dc converters, also called switching power supplies or switchers. This chapter describes some basic dc-dc converter circuits. Chapter 7 describes some common variations of these circuits that are used in many dc power supply designs.\n",
    "\n",
    "## 6.1 LINEAR VOLTAGE REGULATORS\n",
    "Before we discuss switched-mode converters, it is useful to review the motivation for an alternative to linear dc-dc converters that was introduced in Chapt. $1 .$ One method of converting a dc voltage to a lower de voltage is a simple circuit as shown in Fig. $6-1 .$ The output voltage is\n",
    "\n",
    "$$\n",
    "V_{o}=I_{L} R_{L}\n",
    "$$\n",
    "\n",
    "where the load current is controlled by the transistor. By adjusting the transistor base current, the output voltage may be controlled over a range of 0 to roughly $V_{s}$. The base current can be adjusted to compensate for variations in the supply voltage or the load, thus regulating the output. This type of circuit is called a linear de-dc converter or a linear regulator because the transistor operates in the linear region, rather than in the saturation or cutoff regions. The transistor in effect operates as a variable resistance.\n",
    "\n",
    "While this may be a simple way of converting a dc supply voltage to a lower dc voltage and regulating the output, the low efficiency of this circuit is a serious drawback for power applications. The power absorbed by the load is $V_{o} I_{L},$ and the power absorbed by the transistor is $V_{C E} I_{L},$ assuming a small base current. The power loss in the transistor makes this circuit inefficient. For example, if the output voltage is one-quarter of the input voltage, the load resistor absorbs one-quarter of the source power, which is an efficiency of 25 percent. The transistor absorbs the other 75 percent of the power supplied by the source. Lower output voltages result in even lower efficiencies. Therefore, the linear voltage regulator is suitable only for low-power applications.\n",
    "\n",
    "\n",
    "\n",
    "#\n",
    "Figure 6-1 A basic linear regulator.\n",
    "\n",
    "\n",
    "\n",
    "\n",
    "\n",
    "## 6.2 A BASIC SWITCHING CONVERTER\n",
    "An efficient alternative to the linear regulator is the switching converter. In a switching converter circuit, the transistor operates as an electronic switch by being completely on or completely off (saturation or cutoff for a BJT or the triode and cutoff regions of a MOSFET). This circuit is also known as a dc chopper. Assuming the switch is ideal in Fig. $6-2,$ the output is the same as the input when the switch is closed, and the output is zero when the switch is open. Periodic opening and closing of the switch results in the pulse output shown in Fig. $6-2 c$. The average or dc component of the output voltage is\n",
    "\n",
    "$$\n",
    "V_{o}=\\frac{1}{T} \\int_{0}^{T} v_{o}(t) d t=\\frac{1}{T} \\int_{0}^{D T} V_{s} d t=V_{s} D\n",
    "$$\n",
    "\n",
    "#\n",
    "Figure 6-2 (a) Abasic dc-dc switching converter; (b) Switching\n",
    "equivalent; (c) Output voltage.\n",
    "\n",
    "\n",
    "The dc component of the output voltage is controlled by adjusting the duty ratio $D,$ which is the fraction of the switching period that the switch is closed\n",
    "$$\n",
    "D \\equiv \\frac{t_{\\mathrm{on}}}{t_{\\mathrm{on}}+t_{\\mathrm{off}}}=\\frac{t_{\\mathrm{on}}}{T}=t_{\\mathrm{on}} f\n",
    "$$\n",
    "where $f$ is the switching frequency. The de component of the output voltage will be less than or equal to the input voltage for this circuit.\n",
    "\n",
    "The power absorbed by the ideal switch is zero. When the switch is open, there is no current in it; when the switch is closed, there is no voltage across it. Therefore, all power is absorbed by the load, and the energy efficiency is 100 percent. Losses will occur in a real switch because the voltage across it will not be zero when it is on, and the switch must pass through the linear region when making a transition from one state to the other."
   ]
  },
  {
   "cell_type": "markdown",
   "metadata": {},
   "source": [
    "# Bibliography\n",
    " * S. Ang and A. Oliva, Power-Switching Converters, 2d ed., Taylor & Francis, Boca Raton, Fla., 2005\n",
    " * R. D. Middlebrook and S. Cuk, \"A General Unified Approach to Modelling Switching - Converter Power Stages,\" IEEE Power Electronics Specialists Conference Record, 1976\n",
    " * N. Mohan, T. M. Undeland, and W. P. Robbins, Power Electronics: Converters, Applications, and Design, 3d ed., Wiley, New Yorks, 2003 ."
   ]
  },
  {
   "cell_type": "markdown",
   "metadata": {},
   "source": []
  },
  {
   "cell_type": "markdown",
   "metadata": {},
   "source": []
  },
  {
   "cell_type": "markdown",
   "metadata": {},
   "source": []
  },
  {
   "cell_type": "code",
   "execution_count": null,
   "metadata": {},
   "outputs": [],
   "source": []
  }
 ],
 "metadata": {
  "kernelspec": {
   "display_name": "Python 3",
   "language": "python",
   "name": "python3"
  },
  "language_info": {
   "codemirror_mode": {
    "name": "ipython",
    "version": 3
   },
   "file_extension": ".py",
   "mimetype": "text/x-python",
   "name": "python",
   "nbconvert_exporter": "python",
   "pygments_lexer": "ipython3",
   "version": "3.7.6"
  }
 },
 "nbformat": 4,
 "nbformat_minor": 2
}
