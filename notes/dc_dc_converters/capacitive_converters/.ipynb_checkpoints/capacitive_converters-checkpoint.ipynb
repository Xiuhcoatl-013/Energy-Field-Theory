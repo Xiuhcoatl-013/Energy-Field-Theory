{
 "cells": [
  {
   "cell_type": "markdown",
   "metadata": {},
   "source": [
    "# Switched Capacitor Converters\n",
    "\n",
    "In switched-capacitor converters, capacitors are charged in one circuit configuration and then reconnected in a different configuration, producing an output voltage different from the input. Switched-capacitor converters do not require an inductor and are also known as inductorless converters or charge pumps. Switched-capacitor converters are useful for applications that require small currents, usually less than 100 MA. Applications include use in $\\mathrm{RS}-232$ data signals that require both positive and negative voltages for logic levels; in flash memory circuits, where large voltages are needed to erase stored information; and in drivers for LEDs and LCD displays.\n",
    "\n",
    "The basic types of switched-capacitor converters are the step-up (boost), the inverting, and the step-down (buck) circuits. The following discussion introduces the concepts of switched-capacitor converters."
   ]
  },
  {
   "cell_type": "markdown",
   "metadata": {},
   "source": [
    "__The Step-Up Switched-Capacitor Converter__\n",
    "A common application of a switched-capacitor converter is the step-up (boost) converter. The basic principle is shown in Fig. 06024a. A capacitor is first connected across the source to charge it to $V_{s}$. The charged capacitor is then connected in series with the source, producing an output voltage of $2 V_{s^{*}}$\n",
    "\n",
    "A switching scheme to accomplish this is shown in Fig. 06024b. The switch pair labeled 1 is closed and opened in a phase sequence opposite to that of switch pair 2. Switch pair 1 closes to charge the capacitor and then opens. Switch pair 2 then closes to produce an output of $2 V_{s^{*}}$\n",
    "\n",
    "The switches can be implemented with transistors, or they can be implemented with transistors and diodes, as shown in Fig. 06024c. Transistor $M_{1}$ is turned on, and $C_{1}$ is charged to $V_{s}$ through $D_{1} .$ Next, $M_{1}$ is turned off and $M_{2}$ is turned on. Kirchhoff's voltage law around the path of the source, the charged\n",
    "\n",
    "<br><br/>\n",
    "<p align=\"center\"><img src=\"images/switched-capacitor_step-up_converter.png\" style=\"width:50%\"></p>\n",
    "<center> Figure 06024.$\\quad$ A switched-capacitor step-up converter. $(a)$ A capacitor is charged and then reconnected to produce a voltage of twice that of the source; $(b)$ A switch arrangement; (c) An implementation using transistors and diodes and showing a second capacitor $C_{2}$ to sustain the output voltage during switching. </center>\n",
    "<br><br/>\n",
    "<br><br/>\n",
    "\n",
    "capacitor $C_{1},$ and $V_{o}$ shows that $V_{o}=2 V_{s}$. The capacitor $C_{2}$ on the output is required to sustain the output voltage and to supply load current when $C_{1}$ is disconnected from the load. With $C_{2}$ included, it will take several switching cycles to charge it and achieve the final output voltage. With the resistor connected, current will flow from the capacitors, but the output voltage will be largely unaffected if the switching frequency is sufficiently high and capacitor charges are replenished in short time intervals. The output will be less than $2 V_{s}$ for real devices because of voltage drops in the circuit.\n",
    "\n",
    "Converters can be made to step up the input voltage to values greater than $2 V_{s}$. In Fig. 06025a, two capacitors are charged and then reconnected to create a voltage of $3 V_{s} .$ A switching arrangement to implement this circuit is shown in Fig. 06025b. Switch sets 1 and 2 open and close alternately. The circuit includes an output capacitor $C_{3}$ to sustain the voltage across the load during the switching cycle.\n",
    "\n",
    "<br><br/>\n",
    "<p align=\"center\"><img src=\"images/switched-capacitor_step-up_converter_3x.png\" style=\"width:50%\"></p>\n",
    "<center> Figure 06025.$\\quad$ A step-up switched-capacitor converter to produce 3 times the source voltage. $(a)$ Each capacitor is charged to $V_{s}$ and reconnected to produce an output of $3 V_{s} ;(b)$ A switch arrangement also shows an output capacitor to sustain the output voltage during switching. </center>\n",
    "<br><br/>\n",
    "<br><br/>"
   ]
  },
  {
   "cell_type": "markdown",
   "metadata": {},
   "source": [
    "__The Step-Down Switched-Capacitor Converter__\n",
    "A step-down (buck) switched-capacitor converter is shown in Fig. 06027. In Fig. 06027a, two capacitors of equal value are connected in series, resulting in a voltage of $V_{s} / 2$ across each. The capacitors are then reconnected in parallel, making the output voltage $V_{s} / 2 .$ A switching scheme to accomplish this is shown in Fig. 06027b. Switch pairs 1 and 2 open and close in opposite phase sequence. With the resistor connected, current will flow from the capacitors, but the output voltage will be unaffected if the switching frequency is sufficiently high and capacitor charges are replenished in short time intervals.\n",
    "\n",
    "<br><br/>\n",
    "<p align=\"center\"><img src=\"images/step-down_switched-capacitor_converter.png\" style=\"width:50%\"></p>\n",
    "<center> Figure 06027.$\\quad$ The step-down switched-capacitor converter.\n",
    "(a) The capacitors are in series and each is charged to $V_{s} / 2,$ followed by the capacitors in parallel, with the output voltage at $V_{s} / 2 ;(b)$ A switch arrangement; $(c)$ An implementation using transistors and diodes. </center>\n",
    "<br><br/>\n",
    "<br><br/>\n",
    "\n",
    "A switch configuration to implement the inverting circuit is shown in Fig. 06027c. Transistor $M_{1}$ is turned on, and both capacitors charge through $D_{1}$.\n",
    "\n",
    "Transistor $M_{1}$ is turned off, and $M_{2}$ is turned on, connecting the capacitors in parallel through $D_{2}$. And $D_{2}$ is forward-biased as the capacitors discharge into the load resistor."
   ]
  },
  {
   "cell_type": "markdown",
   "metadata": {},
   "source": [
    "__The Polaroty Inverting Switched-Capacitor Converter__\n",
    "The polaroty inverting switched-capacitor converter is useful for producing a negative voltage from a single voltage source. For example, $-5 \\mathrm{V}$ can be made from a $5-\\mathrm{V}$ source, thereby creating $\\mathrm{a}+/-5-\\mathrm{V}$ supply. The basic concept is shown in Fig. 06026a. A capacitor is charged to the source voltage and then connected to the output with opposite polarity.\n",
    "\n",
    "A switching scheme to accomplish this is shown in Fig. 06026b. Switch pairs 1 and 2 open and close in opposite phase sequence. Switch pair 1 closes to charge the capacitor and then opens. Switch pair 2 then closes to produce an output of $-V_{x}$ A switch configuration to implement the inverting circuit is shown in Fig. 06026c. An output capacitor $C_{2}$ is included to sustain the output and supply current to the load during the switching cycle. Transistor $M_{1}$ is turned on, charging $C_{1}$ to $V$ through $D_{1}$. Transistor $M_{1}$ is turned off and $M_{2}$ is turned on, charging $C_{2}$ with a polarity that is positive on the bottom. After several switching cycles, the output voltage is $-\\mathrm{V}_{s}$\n",
    "\n",
    "<br><br/>\n",
    "<p align=\"center\"><img src=\"images/polaroty_inverting_switched-capacitor_converter.png\" style=\"width:50%\"></p>\n",
    "<center> Figure 06026.$\\quad$ The polaroty inverting switched-capacitor converter. $(a)$ The capacitor is charged to $V_{s}$ and then reconnected to produce an output of $-V_{s} ;(b)$ A switch arrangement; $(c)$ An implementation using transistors and diodes and showing a second capacitor to sustain the output voltage during switching. </center>\n",
    "<br><br/>\n",
    "<br><br/>"
   ]
  },
  {
   "cell_type": "code",
   "execution_count": null,
   "metadata": {},
   "outputs": [],
   "source": []
  },
  {
   "cell_type": "code",
   "execution_count": null,
   "metadata": {},
   "outputs": [],
   "source": []
  },
  {
   "cell_type": "code",
   "execution_count": null,
   "metadata": {},
   "outputs": [],
   "source": []
  }
 ],
 "metadata": {
  "kernelspec": {
   "display_name": "Python 3",
   "language": "python",
   "name": "python3"
  },
  "language_info": {
   "codemirror_mode": {
    "name": "ipython",
    "version": 3
   },
   "file_extension": ".py",
   "mimetype": "text/x-python",
   "name": "python",
   "nbconvert_exporter": "python",
   "pygments_lexer": "ipython3",
   "version": "3.7.6"
  }
 },
 "nbformat": 4,
 "nbformat_minor": 2
}
