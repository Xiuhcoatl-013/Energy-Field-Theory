{
 "cells": [
  {
   "attachments": {},
   "cell_type": "markdown",
   "metadata": {},
   "source": [
    "# [Under Construction ...]\n",
    "\n",
    "# THE FLYBACK CONVERTER [Continuous-Current Mode]\n",
    "\n",
    "<br><br/>\n",
    "<p align=\"center\"><img src=\"images/The_Flyback_Converter_Topology.png\"></p>\n",
    "<center> Figure 2 (a) Flyback converter; (b) Equivalent circuit using\n",
    "a transformer model that includes the magnetizing inductance;\n",
    "(c) Circuit for the switch on; (d) Circuit for the switch off. </center>\n",
    "<br><br/>\n",
    "\n",
    "\n"
   ]
  },
  {
   "cell_type": "markdown",
   "metadata": {},
   "source": [
    "# Flyback Converter [Discontinuous-Current Mode]\n",
    "\n",
    "For the discontinuous-current mode for the flyback converter, the current in\n",
    "the transformer increases linearly when the switch is closed, just as it did for the continuous-current mode. However, when the switch is open, the current in the transformer magnetizing inductance decreases to zero before the start of the next switching cycle, as shown in Fig. 4. While the switch is closed, the increase in inductor current is described by Eq coming from continuous current mode analysis.\n",
    "\n",
    "$$\\left(\\Delta i_{L_{m}}\\right)_{\\mathrm{closed}}=\\frac{V_{s} D T}{L_{m}}$$. \n",
    "\n",
    "Since the current starts at zero, the maximum value is also determined from last Eq. giving.\n",
    "\n",
    "$$I_{L_{m, \\max }}=\\frac{V_{s} D T}{L_{m}}$$   [16]\n",
    "\n",
    "<br><br/>\n",
    "<p align=\"center\"><img src=\"images/Discontinuous_Current_for_the_Flyback_Converter.png\"></p>\n",
    "<center> Figure 4 Discontinuous current for the flyback converter. </center>\n",
    "<br><br/>\n",
    "\n",
    "The output voltage for discontinuous-current operation can be determined\n",
    "by analyzing the power relationships in the circuit. If the components are ideal, the power supplied by the dc source is the same as the power absorbed by the load resistor. Power supplied by the source is the dc voltage times average source current, and load power is $V_{o}^{2} / R$:\n",
    "\n",
    "$$\\begin{aligned} P_{s} &=P_{o} \\\\ V_{s}I_{s} &=\\frac{V_{o}^{2}}{R} \\end{aligned}$$   [17]\n",
    "\n",
    "Average source current is the area under the triangular waveform of Fig. 4b\n",
    "divided by the period, resulting in\n",
    "\n",
    "$$I_{s}=\\left(\\frac{1}{2}\\right)\\left(\\frac{V_{s} D T}{L_{m}}\\right)(D T)\\left(\\frac{1}{T}\\right)=\\frac{V_{s} D^{2} T}{2 L_{m}}$$   [18]\n",
    "\n",
    "Equating source power and load power [Eq. 17]\n",
    "\n",
    "$$\\frac{V_{s}^{2} D^{2} T}{2 L_{m}}=\\frac{V_{o}^{2}}{R}$$   [19]\n",
    "\n",
    "Solving for $V_{o}$ for discontinuous-current operation in the flyback converter,\n",
    "\n",
    "$$V_{o}=V_{s} D \\sqrt{\\frac{T R}{2 L_{m}}}=V_{s} D \\sqrt{\\frac{R}{2 L_{m} f}}$$   [20]\n",
    "\n"
   ]
  },
  {
   "cell_type": "markdown",
   "metadata": {},
   "source": [
    "# Summary of Flyback Converter Operation\n",
    "When the switch is closed in the flyback converter of Fig. 2a, the source voltage is across the transformer magnetizing inductance $L_{m}$ and causes $i_{L_{m}}$ to increase linearly. Also while the switch is closed, the diode on the output is reverse-biased, and load current is supplied by the output capacitor. When the switch is open, energy stored in the magnetizing inductance is transferred through the transformer to the output, forward-biasing the diode and supplying current to the load and to the output capacitor. The input-output voltage relationship in the continuous-current mode of operation is like that of the buck-boost dc-dc converter but includes a factor for the turns ratio.\n"
   ]
  },
  {
   "cell_type": "code",
   "execution_count": null,
   "metadata": {},
   "outputs": [],
   "source": []
  }
 ],
 "metadata": {
  "kernelspec": {
   "display_name": "Python 3",
   "language": "python",
   "name": "python3"
  },
  "language_info": {
   "codemirror_mode": {
    "name": "ipython",
    "version": 3
   },
   "file_extension": ".py",
   "mimetype": "text/x-python",
   "name": "python",
   "nbconvert_exporter": "python",
   "pygments_lexer": "ipython3",
   "version": "3.7.1"
  }
 },
 "nbformat": 4,
 "nbformat_minor": 2
}
