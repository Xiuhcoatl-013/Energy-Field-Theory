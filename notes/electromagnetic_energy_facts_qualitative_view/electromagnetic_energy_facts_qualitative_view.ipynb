{
 "cells": [
  {
   "cell_type": "markdown",
   "metadata": {},
   "source": [
    "# Electromagnetic Energy Facts, and a Qualitative View"
   ]
  },
  {
   "cell_type": "markdown",
   "metadata": {},
   "source": [
    "## Introductory Remarks\n",
    "\n",
    "As the title mentions, it will be discussed the mythology, mysteries, and facts surrounding electromagnetic energy, a physical phenomenon whose utility and benefits are constantly being utilized in ever new and creative ways. Like all new and constantly improving uses of energy, there is always a time where skepticism of safety becomes an important issue. For instance, when people made the transition from gas lights to electric lights, there were a variety of reactions changing from gas energy to electric energy, even at the White House, of all places."
   ]
  },
  {
   "cell_type": "markdown",
   "metadata": {},
   "source": [
    "\"Electric lighting was installed in the White House in 1891. Few people at the time had enough faith in electric lighting to use it exclusively-its use was barely a decade old. The electrical work at the White House was planned as part of a well-funded project for wiring the State, War & Navy building next door. The Edison Company installed a generator for both buildings that was put in the State, War & Navy’s basement, with the wires strung across the lawn and introduced into the White House under the conservatory. The relatively new method of illumination was initially intended to be only a supplement to gaslight. Wires were buried in the plaster, with round switches installed in each room for turning the current on and off. President and Mrs. Harrison refused to operate the switches because they feared being shocked and left the operation of the electric lights to the domestic staff.\" [The White House Historical Association](https://www.whitehousehistory.org/architecture-1850s-1890s)\n"
   ]
  },
  {
   "cell_type": "markdown",
   "metadata": {},
   "source": [
    "Another popular sign of the day:\n",
    "\n",
    "<br><br/>\n",
    "<p align=\"center\"><img src=\"images/edison-light.jpg\" style=\"width:30%\"></p>\n",
    "<center> FIGURE. $\\quad$ text... </center>\n",
    "<br><br/>\n",
    "<br><br/>"
   ]
  },
  {
   "cell_type": "markdown",
   "metadata": {},
   "source": [
    "Like with the electric lights of long ago, skepticism and fear of electromagnetic energy application and use exists in many places around the globe. The application of the scientific method to experiments that will provide the information for which someone are looking is vital to obtain valid results. It is therefore very important to consider how the scientific method was used in formulating safe use practices and safety standards of electromagnetic energy use as they may affect people.\n",
    "\n",
    "<br><br/>\n",
    "<p align=\"center\"><img src=\"images/ices-graph.png\" style=\"width:50%\"></p>\n",
    "<center> FIGURE. $\\quad$ text... </center>\n",
    "<br><br/>\n",
    "<br><br/>\n",
    "\n",
    "\n",
    "Failure to use the scientific method invalidates conclusions drawn from anecdotal sources, assumptions, illogical attempts to prove a negative, proclamations, and the like."
   ]
  },
  {
   "cell_type": "markdown",
   "metadata": {},
   "source": [
    "## Origins of Understanding\n",
    "\n",
    "\n",
    "<br><br/>\n",
    "<p align=\"center\"><img src=\"images/electro-magnetism-1024x792.png\" style=\"width:50%\"></p>\n",
    "<center> FIGURE. $\\quad$ text... </center>\n",
    "<br><br/>\n",
    "<br><br/>\n",
    "\n",
    "<br><br/>\n",
    "<p align=\"center\"><img src=\"images/popular-view.jpg\" style=\"width:50%\"></p>\n",
    "<center> FIGURE. $\\quad$ text... </center>\n",
    "<br><br/>\n",
    "<br><br/>"
   ]
  },
  {
   "cell_type": "markdown",
   "metadata": {},
   "source": [
    "__Michael Faraday__ was a brilliant researcher who explored many phenomena of electrical interactions with matter. He was the first researcher to postulate the existence of electric and magnetic fields to explain what he observed.\n",
    "\n",
    "<br><br/>\n",
    "<p align=\"center\"><img src=\"images/Michael-Faraday-150x150.jpg\" style=\"width:30%\"></p>\n",
    "<center> FIGURE. $\\quad$ text... </center>\n",
    "<br><br/>\n",
    "<br><br/>\n",
    "\n",
    "\n",
    "\n",
    "__James Clerk Maxwell__ investigated the works of other scientists in the electrical field. Faraday’s concept of fields gave this renowned mathematician the insight to describe electromagnetism with field equations which led to additional discoveries by others. Classical electromagnetic field theory emerged in more or less complete form in 1873 in James Clerk Maxwell’s A Treatise on Electricity and Magnetism. Maxwell based his theory in large part on the intuitive insights of Michael Faraday. The wide acceptance of Maxwell’s theory has caused a fundamental shift in our understanding of physical reality.\n",
    "\n",
    "> “… In order therefore to appreciate the requirements of the science [of electromagnetism], the student must make himself familiar with a considerable body of most intricate mathematics, the mere retention of which in the memory materially interferes with further progress …” ***James Clerk Maxwell [1855]***\n",
    "\n",
    "\n",
    "<br><br/>\n",
    "<p align=\"center\"><img src=\"images/James-Clerk-Maxwell-150x150.jpg\" style=\"width:30%\"></p>\n",
    "<center> FIGURE. $\\quad$ text... </center>\n",
    "<br><br/>\n",
    "<br><br/>\n",
    "\n",
    "\n",
    "\n",
    "\n",
    "__Heinrich Hertz__ investigated Maxwell’s work, in particular, the mathematics behind the explanation of electromagnetic energy. Hertz designed and constructed the laboratory apparatus necessary to investigate the physical reality of Maxwell’s equations and allied work. His experiments proved that Maxwell, and Faraday, were correct in their hypotheses of the behavior of Electromagnetic energy fields and waves.\n",
    "\n",
    "\n",
    "<br><br/>\n",
    "<p align=\"center\"><img src=\"images/Heinrich-Hertz-150x150.jpg\" style=\"width:30%\"></p>\n",
    "<center> FIGURE. $\\quad$ text... </center>\n",
    "<br><br/>\n",
    "<br><br/>\n",
    "\n",
    "\n",
    "\n",
    "\n",
    "\n",
    "__Guglielmo Marconi__, an inventor, used the principles of Hertz’s laboratory apparatus to design transmitters and receivers and thus began global wireless communications using the Morse Code. \n",
    "\n",
    "<br><br/>\n",
    "<p align=\"center\"><img src=\"images/Guglielmo-Marconi-150x150.jpg\" style=\"width:30%\"></p>\n",
    "<center> FIGURE. $\\quad$ text... </center>\n",
    "<br><br/>\n",
    "<br><br/>"
   ]
  },
  {
   "cell_type": "markdown",
   "metadata": {},
   "source": [
    "The stage was set, and all it took was the invention of the electron tube, the magnetron, the traveling wave tube, the transistor, the integrated circuit, and computer technology to bring us to the present use of electromagnetic energy in everyone’s daily life.\n",
    "\n",
    "#### Vacuum tube: Radio, television, scientific equipment\n",
    "\n",
    "\n",
    "<br><br/>\n",
    "<p align=\"center\"><img src=\"images/vacuum-150x150.jpg\" style=\"width:30%\"></p>\n",
    "<center> FIGURE. $\\quad$ text... </center>\n",
    "<br><br/>\n",
    "<br><br/>\n",
    "\n",
    "\n",
    "#### Magnetron: Microwave oven, radar\n",
    "\n",
    "<br><br/>\n",
    "<p align=\"center\"><img src=\"images/magnetron-150x150.gif\" style=\"width:30%\"></p>\n",
    "<center> FIGURE. $\\quad$ text... </center>\n",
    "<br><br/>\n",
    "<br><br/>\n",
    "\n",
    "\n",
    "#### Travelling wave tube: Advanced communications, telephone relay towers, space communications\n",
    "\n",
    "<p align=\"center\"><img src=\"images/traveling-300x225.png\" style=\"width30%\"></p>\n",
    "<center> FIGURE. $\\quad$ text... </center>\n",
    "<br><br/>\n",
    "<br><br/>\n",
    "\n",
    "\n",
    "#### Integrated Circuits [CHIP]\n",
    "\n",
    "<p align=\"center\"><img src=\"images/chip-1024x293.png\" style=\"width:30%\"></p>\n",
    "<center> FIGURE. $\\quad$ text... </center>\n",
    "<br><br/>\n",
    "<br><br/>\n",
    "\n",
    "\n",
    "This brings mankind to the present technological use and applications of electromagnetic energy fields and waves, unchanged since their discovery and verification by the scientific method and the need to understand this important physical all pervasive force in nature.\n",
    "\n"
   ]
  },
  {
   "cell_type": "markdown",
   "metadata": {},
   "source": [
    "## What is an electromagnetic energy wave?\n",
    "\n",
    "Simply described, an electromagnetic energy wave is a complex form of energy composed of oscillating electric and magnetic fields joined together and capable of conveying energy to the matter it intercepts.\n",
    "\n",
    "\n",
    "<p align=\"center\"><img src=\"images/wave.gif\" style=\"width:50%\"></p>\n",
    "<center> FIGURE. $\\quad$ text... </center>\n",
    "<br><br/>\n",
    "<br><br/>\n",
    "\n",
    "Electromagnetic energy exists over a vast wavelength or frequency range which can be summarized in the following diagram. Please notice that infrared, visible light, ultraviolet light, x-rays, and gamma rays are all forms of electromagnetic energy at extraordinary frequencies. Aparently the principal concern lies below the infrared.\n",
    "\n",
    "<p align=\"center\"><img src=\"images/spectrum.gif\" style=\"width:70%\"></p>\n",
    "<center> FIGURE. $\\quad$ text... </center>\n",
    "<br><br/>\n",
    "<br><br/>"
   ]
  },
  {
   "cell_type": "markdown",
   "metadata": {},
   "source": [
    "## How do electromagnetic energy is used?\n",
    "\n",
    "Up to the end of the microwave spectrum, most all modern conveniences that use electromagnetic energy in one way or another are in the lower frequency region, including millimeter waves, cell phones, WiFi, microwave ovens, space and terrestrial communications, radar for airports and military uses, AM and FM radio, television transmission, and cable services networks that send out electromagnetic energy inside coaxial cables of many frequencies simultaneously to individual homes, offices, and just about everywhere you can install the cable, for entertainment, telephone, computer internet access, and the like. Electromagnetic energy has become all pervasive in the conduct of modern life.\n"
   ]
  },
  {
   "cell_type": "markdown",
   "metadata": {},
   "source": [
    "## How does electromagnetic energy behave?\n",
    "\n",
    "Electromagnetic energy follows clearly defined rules in its behavior from the creation of the energy wave to the travel of the wave through space and the atmosphere of the earth, and what happens when it meets matter of all kinds. The behaviors are defined by sometimes complex and sometimes simple, but they all share the fact that whatever the electromagnetic energy wave is doing or what energy is imparted to the things around it is dependent on the wavelength or frequency of the energy wave. The physical and electrical properties of the substances, gases, and biological organisms, as well as size with respect to the wavelength of the incident electromagnetic energy, are all important factors that influence strongly the transfer of energy from the electromagnetic energy wave to the materials and organisms the wave intercepts.\n",
    "\n",
    "It is important to note that the electric and magnetic fields of electromagnetic energy enable anyone to measure, characterize, and thus visualize the fields which are otherwise invisible, visible light excepted. It is the measurement of these fields and thus the energy they can impart to inorganic and organic matter that scientific research uses to make determinations on electromagnetic energy safety for humans."
   ]
  },
  {
   "cell_type": "markdown",
   "metadata": {},
   "source": [
    "## Mechanisms of Electromagnetic Energy Transfer\n",
    "\n",
    "Without the existence of established mechanisms for the transfer of electromagnetic energy to whatever it intercepts, nothing is going to happen. For example, light (which is electromagnetic energy at extremely short wavelengths) passing through a pane of glass does so essentially undisturbed and does not heat the glass because there is no mechanism of interaction of glass with electromagnetic energy with light. If there were, the light would be absorbed, and little could pass through. When glass contains certain chemical constituents that can absorb light at selected wavelengths, colored glass is made whereupon some of the energy is absorbed at selected wavelengths, passing other wavelengths undisturbed. At very long wavelengths, such as with power frequency fields, radio, and microwave, up to the infrared, selective absorption of electromagnetic energy occurs, but the situation is extremely more complex than that of visible light."
   ]
  },
  {
   "cell_type": "markdown",
   "metadata": {},
   "source": [
    "## Important Concepts\n",
    "\n",
    "Electromagnetic energy waves travel at what we call by convenience the speed of light. You will see that represented by the letter $c$, and is universally accepted to be in a vacuum: 299,792,458 m/s. The frequency of the wave, or the number of times per second a peak in the wave passes by, and the wavelength, the length between wave peaks measured in meters. The following figure shows this relationship:\n",
    "\n",
    "<p align=\"center\"><img src=\"images/gamma.png\" style=\"width:70%\"></p>\n",
    "<center> FIGURE. $\\quad$ text... </center>\n",
    "<br><br/>\n",
    "<br><br/>\n",
    "\n",
    "\n",
    "In a vacuum, let us say in space, the velocity of an electromagnetic energy wave $c$, is directly related to the wave’s frequency and wavelength by the equation:\n",
    "\n",
    "C (299,792,458 m/s) = Frequency (Hz) ÷ Wavelength (in meters)\n",
    "\n",
    "Hz = Hertz = Cycles per second\n",
    "\n",
    "This equation holds for all electromagnetic energy, and is taken as universal. When electromagnetic energy is absorbed by the matter it intercepts and is partially or totally absorbed, the electric and magnetic characteristics of the matter determine how much and at what frequency the energy is absorbed. This is another very important concept, and can best be shown by the absorption of electromagnetic energy in our atmosphere by the oxygen, carbon dioxide, and other gases as we look at many frequencies of waves.\n",
    "\n",
    "The following figure shows the absorption of electromagnetic energy passing through moist air. You can see how absorption, or attenuation of the wave, varies by frequency and thus the wavelength. Most materials behave similarly in uniquely defined ways.\n",
    "\n",
    "<p align=\"center\"><img src=\"images/frequency.png\" style=\"width:50%\"></p>\n",
    "<center> FIGURE. $\\quad$ text... </center>\n",
    "<br><br/>\n",
    "<br><br/>\n",
    "\n",
    "\n",
    "A final concept that influences the absorption of electromagnetic energy is the linear size of whatever the wave intercepts. If the height (length) of a person, child, or animal, is close to the wavelength of the incident electromagnetic energy, the property of resonance takes over and can materially enhance the absorption of electromagnetic energy. We have to note that this is what happens in metal element antennas used to capture electromagnetic energy broadcast waves for many kinds of receivers. The antenna is designed to be selective at the desired wavelengths and thus the related frequencies. The electromagnetic energy exposure safety standards compensate for resonance by lowering the permissible exposure. This is commonly seen as a dip or trough in the standards graphs."
   ]
  },
  {
   "cell_type": "markdown",
   "metadata": {},
   "source": [
    "## The Mechanisms of Electromagnetic Energy Absorption\n",
    "\n",
    "The electrical and physical mechanisms by which electromagnetic energy fields and waves deposit their energy in matter is dependent on two general factors. First, the characteristics of the material are all important. You have to ask is the absorption is dependent on wavelength or frequency, like we saw on the graph of water vapor in air, and if it is, what is its graph of absorption. The second factor is the mechanism by which the energy is transferred to the substances in question.\n",
    "\n",
    "The concept of mechanism and knowing the actual mechanism by which the energy transfer is achieved is important in verifying experimental results and conclusions with the scientific method. The scientist has to demonstrate the mechanism in the experiment. One common mechanism of the transfer of electromagnetic energy to the material, substance, or biological organism is the inducement of molecular vibrations in the material, substance, or biological organism. These molecular vibrations, assuming they occur at the frequency or wavelength of the electromagnetic energy wave, are changing that energy through a mechanical vibration into heat (this vibration also producing sound), in the same manner that a microwave oven heats food. The microwave oven is an extreme example, and does not represent electromagnetic energy exposures to the public at large, which are extremely weak, by comparison.\n",
    "\n",
    "The following figure shows the typical mechanisms of energy absorption with frequency. As you can see, microwaves induce molecular rotations.\n",
    "\n",
    "<p align=\"center\"><img src=\"images/x-ray.gif\" style=\"width:50%\"></p>\n",
    "<center> FIGURE. $\\quad$ text... </center>\n",
    "<br><br/>\n",
    "<br><br/>\n",
    "\n",
    "So called Radio Waves, being lower in frequency, have lower energy, and induce currents that can cause heating, as in the medical applications of diathermy, and the Radio Frequency shocks and burns experienced by those who work with transmitters, such as radio amateurs and technicians. At still lower frequencies, such as power frequencies at 50 and 60 Hz (Hz = Hertz = cycles per second), electric shock is the predominant danger when someone makes contact with an energized conductor and the electric current passes through the person, that being electric shock. The electric and magnetic fields produced by power lines do not interact with biological organisms to any significant extent. Biological organisms are transparent to power frequency magnetic fields, and thus no energy is absorbed. Because neither the electromagnetic energy, nor the heat it produces, are accumulated in the organism or material, its effects are very much like a quartz heater, a day at the beach, or sitting in front of a wood stove. Move away from the stove or heater, or seek shelter from the sun, and you start to cool off rapidly.\n",
    "\n",
    "Therefore, there must be a valid mechanism by which electromagnetic energy is absorbed and converted into another form of energy, such as heat (or perhaps it is still remind as electromagnetism, but happening in a particular subtle manifesttion). The dependence on frequency of absorption also plays a significant role, as well as resonance.\n"
   ]
  },
  {
   "cell_type": "markdown",
   "metadata": {},
   "source": [
    "## Final Thoughts\n",
    "\n",
    "The electromagnetic energy exposure standards promulgated by an international consensus process combine all that is known about electromagnetic energy and how it interacts with the things and biological organisms it intercepts. The following discussions in these lecture notes, focuses on only the major mechanisms and situations, and should be used as an information guide to help in the understanding of this very complex subject. The scientific method applied to research work in this important aspect of human exposures is the quality assurance check that the results are valid and worthy of incorporation into standards setting deliberations on any subject, including this one."
   ]
  }
 ],
 "metadata": {
  "kernelspec": {
   "display_name": "Python 3",
   "language": "python",
   "name": "python3"
  },
  "language_info": {
   "codemirror_mode": {
    "name": "ipython",
    "version": 3
   },
   "file_extension": ".py",
   "mimetype": "text/x-python",
   "name": "python",
   "nbconvert_exporter": "python",
   "pygments_lexer": "ipython3",
   "version": "3.7.6"
  }
 },
 "nbformat": 4,
 "nbformat_minor": 2
}
