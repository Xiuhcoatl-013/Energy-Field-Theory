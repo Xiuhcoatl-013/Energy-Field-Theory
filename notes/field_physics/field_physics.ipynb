{
 "cells": [
  {
   "cell_type": "markdown",
   "metadata": {},
   "source": [
    "# Field [Physics]"
   ]
  },
  {
   "cell_type": "markdown",
   "metadata": {},
   "source": [
    "## Introdcution\n",
    "\n",
    "In physics, a field means that a physical quantity is assigned to every point in space (or, more generally, space-time). A field is seen as extending throughout a large region of space so that it influences everything. The strength of a field usually varies over a region. Some literature refers to Michael Faraday as became the first to coin the term \"field\", in 1849.\n",
    "\n",
    "For some fields, there is a number for each point in space. They are called _scalar fields_. For example, on a weather map, the surface temperature is described by assigning a real number to each point on a map; the temperature can be considered at a fixed point in time or over some time interval, to study the dynamics of temperature change. Other examples are temperature fields or air pressure fields, which are often illustrated on weather reports by isotherms and isobars by joining up the points of equal temperature or pressure respectively.\n",
    "\n",
    "For more complicated fields, there are more than one number for each point in space, for which could be formed a column, row or rectangular numbers array. They are called in general _vector fields_ [1](). For example, one can model a gravitational field by a vector field where a vector indicates the acceleration a mass would experience at each point in space. For instance, the electric field and the full description of electrodynamics are another examples of vector fields.\n",
    "\n",
    "In the modern framework of the quantum theory of fields, even without referring to a \"test particle\", a field occupies space, contains [__energy__](https://en.wikipedia.org/wiki/Energy) [2](), and its presence precludes a classical _\"true vacuum\"_. This has led physicists to consider electromagnetic fields to be a physical entity, making the field concept a supporting paradigm of the edifice of modern physics. The fact that the electromagnetic field can possess momentum and energy makes it very real ... a \"particle\" makes a field, and a field acts on another \"particle\", and the field has such familiar properties as energy content and momentum, just as \"particles\" can have. \n",
    "\n",
    "In practice, the strength of most fields has been found to diminish with distance to the point of being undetectable. For instance the strength of many relevant classical fields, such as the gravitational field in Newton's theory of gravity or the electrostatic field in classical electromagnetism, is inversely proportional to the square of the distance from the source (i.e., they follow [Gauss's law](https://en.wikipedia.org/wiki/Gauss%27s_law)). One consequence is that the Earth's gravitational field quickly becomes undetectable on cosmic scales.\n",
    "\n",
    "As discussed above, a field can be classified as a scalar field or a vector field, according to whether the represented physical quantity is a scalar or a vector respectively. A field then, has a unique character in every point where it is defined: i.e. a field cannot be a scalar field somewhere and a vector field somewhere else. Moreover, within each category (scalar, vector), a field can be either a classical field or a quantum field, depending on whether it is characterized by numbers or quantum operators respectively. In fact in this theory an equivalent representation of field is a [field particle](https://en.wikipedia.org/wiki/Force_carrier), namely a [\"boson\"](https://en.wikipedia.org/wiki/Boson), but a field at the end.\n",
    "<br><br/>\n",
    "<br><br/>\n",
    "<br><br/>\n",
    "<br><br/>\n",
    "<br><br/>\n",
    "\n",
    "\n",
    "\n",
    "\n",
    "[1]()\n",
    "It is so common for the physicists's wordiness to refer some specific kind of vector's as a \"tensor\" or even a \"spinor\" and who knows what more, just for obfuscation maybe. However, at the end, such things still resembling the same vector concept, considering a vector (or matrix) as an array of numbers considering whatever possible configuration, for example: row, column, rectangular, cubic and else ..., and going beyond, why not an hexagon or a dodecahedron perhaps, just allow the mind itself to imagine another exotic number arrangements types, in general denoted as [ragged matrix](https://en.wikipedia.org/wiki/Irregular_matrix). From a mathematical point of view, a tensor is a particular kind of matrix (and a matrix is also a degenerate kind of tensor). It's not that they're markedly different things, per se. \n",
    "\n",
    "\n",
    "[2]()\n",
    "<font color='purple'>\n",
    "__Energy and Power are not the same concept.__ <br>\n",
    "___Energy___ is the capacity to do _work_. Energy is _power_ integrated over time. The units used for _energy_ are the _joules = watt-seconds_ or _joule = Newton-meter_. The more spoted symbols used for energy are $W$ and $E$. Example: By lefting a 60W light bulb turned on for 30 days, it will rais the electric bill by 43.2 kWh (kilowatt-hours). <br>\n",
    "___Power___, on the other hand, is the rate at which _work_ is done, or _energy_ is transmitted. The unit used for _power_ is the _watt = joules / seconds_. The most common symbols for characterize power are: $P$, $Q$, and $S$. Example: A common car's battery can provide 500 amps at 12 volts, which equals 6kW of power.\n",
    "</font>"
   ]
  },
  {
   "cell_type": "code",
   "execution_count": 1,
   "metadata": {},
   "outputs": [
    {
     "data": {
      "text/html": [
       "\n",
       "    <video alt=\"test\" controls>\n",
       "        <source src=\"images/35939193_832407800285998_5986430454884990976_n.mp4\" type=\"video/mp4\">\n",
       "    </video>\n"
      ],
      "text/plain": [
       "<IPython.core.display.HTML object>"
      ]
     },
     "execution_count": 1,
     "metadata": {},
     "output_type": "execute_result"
    }
   ],
   "source": [
    "from IPython.display import HTML\n",
    "\n",
    "HTML(\"\"\"\n",
    "    <video alt=\"test\" controls>\n",
    "        <source src=\"images/35939193_832407800285998_5986430454884990976_n.mp4\" type=\"video/mp4\">\n",
    "    </video>\n",
    "\"\"\")"
   ]
  },
  {
   "cell_type": "markdown",
   "metadata": {},
   "source": [
    "## Classical Fields\n",
    "\n",
    "There are several examples of [classical fields](https://en.wikipedia.org/wiki/Classical_field_theory). Classical field theories remain useful wherever quantum properties do not arise, and can be active areas of research. [Elasticity of materials](https://en.wikipedia.org/wiki/Elasticity_(physics)), [fluid dynamics](https://en.wikipedia.org/wiki/Fluid_dynamics) and [Maxwell's equations](https://en.wikipedia.org/wiki/Maxwell%27s_equations) are cases in point.\n",
    "\n",
    "Some of the simplest physical fields are vector force fields. Historically, the first time that fields were taken seriously was with [Faraday's lines of force](https://en.wikipedia.org/wiki/Line_of_force) when describing the [electric field](https://en.wikipedia.org/wiki/Electric_field). The [gravitational field](https://en.wikipedia.org/wiki/Gravitational_field) was then similarly described. \n",
    "\n",
    "### Newtonian gravitation\n",
    "\n",
    "### Electromagnetism\n",
    "\n",
    "### Electrostatics\n",
    "\n",
    "### Magnetostatics\n",
    "\n",
    "### Electrodynamics\n",
    "\n",
    "### Magnetodynamics\n"
   ]
  },
  {
   "cell_type": "markdown",
   "metadata": {},
   "source": [
    "## Waves as fields\n",
    "\n",
    "[Waves](https://en.wikipedia.org/wiki/Wave) can be constructed as physical fields, due to their finite propagation speed and [causal nature](https://en.wikipedia.org/wiki/Causality) when a simplified [physical model](https://en.wikipedia.org/wiki/Physical_model) of an isolated closed system is set. They are also subject to the [inverse-square law](https://en.wikipedia.org/wiki/Inverse-square_law).\n",
    "\n",
    "For electromagnetic waves, there are [optical fields](https://en.wikipedia.org/wiki/Optical_field), and terms such as [near- and far-field](https://en.wikipedia.org/wiki/Near_and_far_field) limits for diffraction. In practice though, the field theories of optics are superseded by the electromagnetic field theory of Maxwell. "
   ]
  },
  {
   "cell_type": "markdown",
   "metadata": {},
   "source": [
    "## Quantum Fields\n",
    "\n",
    "It is now believed that [quantum mechanics](https://en.wikipedia.org/wiki/Quantum_mechanics) should underlie all physical phenomena, so that a classical field theory should, at least in principle, permit a recasting in quantum mechanical terms; success yields the corresponding [quantum field](https://en.wikipedia.org/wiki/Quantum_field_theory) theory. For example, quantizing classical electrodynamics gives [quantum electrodynamics](https://en.wikipedia.org/wiki/Quantum_electrodynamics). Quantum electrodynamics is arguably the most successful scientific theory; experimental data confirm its predictions to a higher precision (to more significant digits) than [any other theory](https://en.wikipedia.org/wiki/Precision_tests_of_QED). The two other fundamental quantum field theories are [quantum chromodynamics](https://en.wikipedia.org/wiki/Quantum_chromodynamics) and the [electroweak theory](https://en.wikipedia.org/wiki/Electroweak_interaction).\n",
    "\n",
    "These three quantum field theories can all be derived as special cases of the so-called [standard model](https://en.wikipedia.org/wiki/Standard_Model) of [particle physics](https://en.wikipedia.org/wiki/Particle_physics). [General relativity](https://en.wikipedia.org/wiki/General_relativity), the Einsteinian field theory of gravity, has yet to be successfully quantized. However an extension, thermal field theory, deals with [quantum field theory](https://en.wikipedia.org/wiki/Thermal_quantum_field_theory) at finite temperatures, something seldom considered in quantum field theory.\n",
    "\n",
    "<br><br/>\n",
    "<p align=\"center\"><img src=\"images/feynmann_diagram_gluon_radiation.png\" style=\"width:50%\"></p>\n",
    "<center> Fig. 2.$\\quad$ In this Feynman diagram, an electron $\\left(e^{-}\\right)$ and a $D$ positron (e $^{-}$ ) annihilate, producing a photon ($\\mathrm{V}$, represented by the blue sine wave) that becomes a quark-antiquark pair (quark $q$, antiquark $\\bar{q}$), after which the antiquark radiates a gluon ( $\\mathbf{g}$, represented by the green helix). </center>\n",
    "<br><br/>\n",
    "<br><br/>\n",
    "\n",
    "In [BRST theory](https://en.wikipedia.org/wiki/BRST_quantization) one deals with odd fields, as example the [Faddeev–Popov ghosts](https://en.wikipedia.org/wiki/Faddeev%E2%80%93Popov_ghost). There are different descriptions of odd classical fields both on [graded manifolds](https://en.wikipedia.org/wiki/Graded_manifold) and [supermanifolds](https://en.wikipedia.org/wiki/Supermanifold).\n",
    "\n",
    "As above with classical fields, it is possible to approach their quantum counterparts from a purely mathematical view using similar techniques as before. The equations governing the quantum fields are in fact PDEs (specifically, [relativistic wave equations](https://en.wikipedia.org/wiki/Relativistic_wave_equations) (RWEs)). Thus one can speak of [Yang–Mills](https://en.wikipedia.org/wiki/Yang%E2%80%93Mills_theory), [Dirac](https://en.wikipedia.org/wiki/Fermionic_field#Dirac_fields), [Klein–Gordon](https://en.wikipedia.org/wiki/Klein%E2%80%93Gordon_equation) and [Schrödinger fields](https://en.wikipedia.org/wiki/Schr%C3%B6dinger_field) as being solutions to their respective equations. A possible problem is that these RWEs can deal with complicated [mathematical objects](https://en.wikipedia.org/wiki/Mathematical_object) with exotic algebraic properties (for example, as ridiculous it seams, spinors are not tensors, but both of them concibed by physicists at the end, so they may need a special calculus type for spinor fields, and a barely different special calculus type for tensor fields, WTF!!!), but these in theory can still be subjected to analytical methods given appropriate [mathematical generalization](https://en.wikipedia.org/wiki/Generalization), such this simple as it is (rejecting then the so-typical unrrational complications established by physicists, with such bunch of crap named \"spinors\" and \"tensors\")."
   ]
  },
  {
   "cell_type": "markdown",
   "metadata": {},
   "source": [
    "## Field theory\n",
    "\n",
    "A field theory is a physical theory that describes how one or more physical fields interact with matter (other fields).\n",
    "\n",
    "Field theory usually refers to a construction of the dynamics of a field, it is, a specification of how a field changes with time or with respect to other independent physical variables on which the field depends. Usually this is done by writing a [Lagrangian](https://en.wikipedia.org/wiki/Lagrangian_(field_theory)) or a [Hamiltonian](https://en.wikipedia.org/wiki/Hamiltonian_mechanics) of the field, and treating it as a classical or quantum mechanical system with an infinite number of [degrees of freedom](https://en.wikipedia.org/wiki/Degrees_of_freedom_(physics_and_chemistry)). The resulting field theories are referred to as classical or quantum field theories.\n",
    "\n",
    "The dynamics of a classical field are usually specified by the [Lagrangian density](https://en.wikipedia.org/wiki/Lagrangian_(field_theory)) in terms of the field components; the dynamics can be obtained by using the action principle.\n",
    "\n",
    "It is possible to construct simple fields without any prior knowledge of physics using only mathematics from [several variable calculus](https://en.wikipedia.org/wiki/Multivariable_calculus), [potential theory](https://en.wikipedia.org/wiki/Potential_theory) and [partial differential equations](https://en.wikipedia.org/wiki/Partial_differential_equation) (PDEs). For example, scalar PDEs might consider quantities such as amplitude, density and pressure fields for the wave equation and [fluid dynamics](https://en.wikipedia.org/wiki/Fluid_dynamics); temperature/concentration fields for the [heat](https://en.wikipedia.org/wiki/Heat_equation)/[diffusion](https://en.wikipedia.org/wiki/Diffusion_equation) equations. Outside of physics proper (for example, radiometry and computer graphics), there are even [light fields](https://en.wikipedia.org/wiki/Light_field). All these previous examples are [scalar fields](https://en.wikipedia.org/wiki/Scalar_field). Similarly for vectors, there are vector PDEs for displacement, velocity and [vorticity fields](https://en.wikipedia.org/wiki/Vector_field) in (applied mathematical) fluid dynamics, but vector calculus may now be needed in addition, being calculus for vector fields (as are these three quantities, and those for vector PDEs in general). More generally problems in [continuum mechanics](https://en.wikipedia.org/wiki/Continuum_mechanics) may involve for example, directional [elasticity](https://en.wikipedia.org/wiki/Hooke%27s_law#Hooke's_law_for_continuous_media) (from which it surely comes such term of tensor, commonly used by physicists, and derived from the Latin word for stretch), [complex fluid](https://en.wikipedia.org/wiki/Complex_fluid) flows or [anisotropic diffusion](https://en.wikipedia.org/wiki/Anisotropic_diffusion), which are framed as matrix PDEs, and then require matrices fields, hence in general [matrix calculus](https://en.wikipedia.org/wiki/Matrix_calculus). The scalars (and hence the vectors and matrices) can be real or [complex](https://en.wikipedia.org/wiki/Complex_number) as both are [fields](https://en.wikipedia.org/wiki/Field_(mathematics)) in the abstract-algebraic/[ring-theoretic](https://en.wikipedia.org/wiki/Ring_theory) sense.\n",
    "\n",
    "In a general setting, classical fields are described by sections of [fiber bundles](https://en.wikipedia.org/wiki/Fiber_bundle) and their dynamics is formulated in the terms of [jet manifolds](https://en.wikipedia.org/wiki/Jet_bundle) ([covariant classical field theory](https://en.wikipedia.org/wiki/Covariant_classical_field_theory)).\n",
    "\n",
    "In [modern physics](https://en.wikipedia.org/wiki/Modern_physics), the most often studied fields are those that model the four (or five) [fundamental forces](https://en.wikipedia.org/wiki/Fundamental_interaction) which one day may lead to the [Unified Field Theory](https://en.wikipedia.org/wiki/Unified_field_theory). "
   ]
  },
  {
   "cell_type": "markdown",
   "metadata": {},
   "source": [
    "### Statistical Field Theory\n",
    "\n",
    "[Statistical field theory](https://en.wikipedia.org/wiki/Statistical_field_theory) attempts to extend the field-theoretic paradigm toward [many-body systems](https://en.wikipedia.org/wiki/Many-body_problem) and [statistical mechanics](https://en.wikipedia.org/wiki/Statistical_mechanics). As above, it can be approached by the usual infinite number of degrees of freedom argument.\n",
    "\n",
    "Much like statistical mechanics has some overlap between quantum and classical mechanics, statistical field theory has links to both quantum and classical field theories, especially the former with which it shares many methods. One important example is [mean field theory](https://en.wikipedia.org/wiki/Mean-field_theory)."
   ]
  },
  {
   "cell_type": "markdown",
   "metadata": {},
   "source": [
    "### Continuous Random Fields\n",
    "\n",
    "Classical fields as above, such as the [electromagnetic field](https://en.wikipedia.org/wiki/Electromagnetic_field), are usually infinitely differentiable functions, but they are in any case almost always twice differentiable. In contrast, [generalized functions](https://en.wikipedia.org/wiki/Generalized_function) are not continuous. When dealing carefully with classical fields at finite temperature, the mathematical methods of continuous random fields are used, because [thermally fluctuating](https://en.wikipedia.org/wiki/Thermal_fluctuations) classical fields are nowhere [differentiable](https://en.wikipedia.org/wiki/Differentiable_function). [Random fields](https://en.wikipedia.org/wiki/Random_field) are indexed sets of [random variables](https://en.wikipedia.org/wiki/Random_variable); a continuous random field is a random field that has a set of functions as its index set. In particular, it is often mathematically convenient to take a continuous random field to have a [Schwartz space](https://en.wikipedia.org/wiki/Schwartz_space) of functions as its index set, in which case the continuous random field is a [tempered distribution](https://en.wikipedia.org/wiki/Distribution_(mathematics)).\n",
    "\n",
    "It could be thought about a continuous random field, in a (very) rough way, as an ordinary function that is $\\pm \\infty$ almost everywhere, but such that when a [weighted average](https://en.wikipedia.org/wiki/Weighted_arithmetic_mean) is taken of all the [infinities](https://en.wikipedia.org/wiki/Infinity) over any finite region, a finite result is gotten. The infinities are not well-defined; but the finite values can be associated with the functions used as the weight functions to get the finite values, and that can be well-defined. A continuous random field could be definde well enough as a [linear map](https://en.wikipedia.org/wiki/Linear_map) from a space of functions into the [real numbers](https://en.wikipedia.org/wiki/Real_number). "
   ]
  }
 ],
 "metadata": {
  "kernelspec": {
   "display_name": "Python 3",
   "language": "python",
   "name": "python3"
  },
  "language_info": {
   "codemirror_mode": {
    "name": "ipython",
    "version": 3
   },
   "file_extension": ".py",
   "mimetype": "text/x-python",
   "name": "python",
   "nbconvert_exporter": "python",
   "pygments_lexer": "ipython3",
   "version": "3.7.6"
  }
 },
 "nbformat": 4,
 "nbformat_minor": 4
}
