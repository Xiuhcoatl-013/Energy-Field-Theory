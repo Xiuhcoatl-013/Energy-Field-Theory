{
 "cells": [
  {
   "cell_type": "markdown",
   "metadata": {},
   "source": [
    "# Fourier Series for Some Common Waveforms"
   ]
  },
  {
   "cell_type": "markdown",
   "metadata": {},
   "source": [
    "## Fourier Series\n",
    "The Fourier series for a periodic function $f(t)$ can be expressed in trigonometric form as\n",
    "\n",
    "$$\n",
    "f(t)=a_{0}+\\sum_{n=1}^{\\infty}\\left[a_{n} \\cos \\left(n \\omega_{0} t\\right)+b_{n} \\sin \\left(n \\omega_{0} t\\right)\\right]\n",
    "$$\n",
    "\n",
    "where\n",
    "\n",
    "$$\n",
    "\\begin{array}{c}\n",
    "f(t)=a_{0}+\\sum_{n=1}^{\\infty}\\left[a_{n} \\cos \\left(n \\omega_{0} t\\right)+b_{n} \\sin \\left(n \\omega_{0} t\\right)\\right] \\\\\n",
    "a_{0}=\\frac{1}{T} \\int_{-T / 2}^{T / 2} f(t) d t\n",
    "\\end{array}\n",
    "$$\n",
    "\n",
    "$$\n",
    "a_{n}=\\frac{2}{T} \\int_{-T / 2}^{T / 2} f(t) \\cos \\left(n \\omega_{0} t\\right) d t\n",
    "$$\n",
    "\n",
    "$$\n",
    "b_{n}=\\frac{2}{T} \\int_{-T / 2}^{T / 2} f(t) \\sin \\left(n \\omega_{0} t\\right) d t\n",
    "$$\n",
    "\n",
    "sines and cosines of the same frequency can be combined into one sinusoid, resulting in an alternative expression for a Fourier series\n",
    "\n",
    "$$\n",
    "f(t)=a_{0}+\\sum_{n=1}^{\\infty} C_{n} \\cos \\left(n \\omega_{0} t+\\theta_{n}\\right)\n",
    "$$\n",
    "\n",
    "where $\\quad C_{n}=\\sqrt{a_{n}^{2}+b_{n}^{2}} \\quad$ and $\\quad \\theta_{n}=\\tan ^{-1}\\left(\\frac{-b_{n}}{a_{n}}\\right)$\n",
    "or\n",
    "\n",
    "$$\n",
    "f(t)=a_{0}+\\sum_{n=1}^{\\infty} C_{n} \\sin \\left(n \\omega_{0} t+\\theta_{n}\\right)\n",
    "$$\n",
    "\n",
    "where $\\quad C_{n}=\\sqrt{a_{n}^{2}+b_{n}^{2}} \\quad$ and $\\quad \\theta_{n}=\\tan ^{-1}\\left(\\frac{a_{n}}{b_{n}}\\right)$\n",
    "The rms value of $f(t)$ can be computed from the Fourier series.\n",
    "\n",
    "$$\n",
    "F_{\\mathrm{rms}}=\\sqrt{\\sum_{n=0}^{\\infty} F_{n, \\mathrm{rms}}^{2}}=\\sqrt{a_{0}^{2}+\\sum_{n=1}^{\\infty}\\left(\\frac{C_{n}}{\\sqrt{2}}\\right)^{2}}\n",
    "$$"
   ]
  },
  {
   "cell_type": "markdown",
   "metadata": {},
   "source": [
    "### HALF-WAVE RECTIFIED SINUSOID (FIG. F-1)\n",
    "\n",
    "<br><br/>\n",
    "<p align=\"center\"><img src=\"images/halfWave_rectified_sine_wave.png\" style=\"width:39%\"></p>\n",
    "<center> Figure F-1.$\\quad$ Half-wave rectified sine wave. </center>\n",
    "<br><br/>\n",
    "<br><br/> \n",
    "\n",
    "$$\n",
    "v(t)=\\frac{V_{m}}{\\pi}+\\frac{V_{m}}{2} \\sin \\left(\\omega_{0} t\\right)-\\sum_{n=2,4,6}^{\\infty} \\frac{2 V_{m}}{\\left(n^{2}-1\\right) \\pi} \\cos \\left(n \\omega_{0} t\\right)\n",
    "$$"
   ]
  },
  {
   "cell_type": "markdown",
   "metadata": {},
   "source": [
    "### FULL-WAVE RECTIFIED SINUSOID (FIG. F-2)\n",
    "\n",
    "<br><br/>\n",
    "<p align=\"center\"><img src=\"images/fullWave_rectified_sine_wave.png\" style=\"width:39%\"></p>\n",
    "<center> Figure F-2.$\\quad$ Full-wave rectified sine wave. </center>\n",
    "<br><br/>\n",
    "<br><br/>\n",
    "\n",
    "where\n",
    "\n",
    "$$\n",
    "\\begin{aligned}\n",
    "v_{o}(t) &=V_{o}+\\sum_{n=2,4, \\ldots}^{\\infty} V_{n} \\cos \\left(n \\omega_{0} t+\\pi\\right) \\\\\n",
    "V_{o} &=\\frac{2 V_{m}}{\\pi}\n",
    "\\end{aligned}\n",
    "$$\n",
    "\n",
    "and\n",
    "\n",
    "$$\n",
    "V_{n}=\\frac{2 V_{m}}{\\pi}\\left(\\frac{1}{n-1}-\\frac{1}{n+1}\\right)\n",
    "$$"
   ]
  },
  {
   "cell_type": "markdown",
   "metadata": {},
   "source": [
    "### THREE-PHASE BRIDGE RECTIFIER (FIG. F-3)\n",
    "\n",
    "<br><br/>\n",
    "<p align=\"center\"><img src=\"images/ThreePhase_sixPulse_bridge_rectifier_output.png\" style=\"width:39%\"></p>\n",
    "<center> Figure F-3.$\\quad$ Three-phase six-pulse bridge rectifier output. </center>\n",
    "<br><br/>\n",
    "<br><br/>\n",
    "\n",
    "The Fourier series for a six-pulse converter is\n",
    "\n",
    "$$\n",
    "\\begin{array}{c}\n",
    "v_{o}(t)=V_{o}+\\sum_{n=6,12,18, \\ldots}^{\\infty} V_{n} \\cos \\left(n \\omega_{0} t+\\pi\\right) \\\\\n",
    "V_{o}=\\frac{3 V_{m, \\mathrm{L}-\\mathrm{L}}}{\\pi}=0.955 V_{m, \\mathrm{L}-\\mathrm{L}} \\\\\n",
    "V_{n}=\\frac{6 V_{m, \\mathrm{L}-\\mathrm{L}}}{\\pi\\left(n^{2}-1\\right)} \\quad n=6,12,18, \\ldots\n",
    "\\end{array}\n",
    "$$\n",
    "\n",
    "where $V_{m, \\mathrm{L}-\\mathrm{L}}$ is the peak line-to-line voltage of the three-phase source, which is $\\sqrt{2} V_{\\mathrm{L}-\\mathrm{L}, \\mathrm{ms}^{*}}$.\n",
    "\n",
    "The Fourier series of the currents in phase $a$ of the ac line (see Fig. $4-17$ ) is\n",
    "\n",
    "$$\n",
    "i_{a}(t)=\\frac{2 \\sqrt{3}}{\\pi} I_{o}\\left(\\cos \\omega_{0} t-\\frac{1}{5} \\cos 5 \\omega_{0} t+\\frac{1}{7} \\cos 7 \\omega_{0} t-\\frac{1}{11} \\cos 11 \\omega_{0} t+\\frac{1}{13} \\cos 13 \\omega_{0} t-\\ldots\\right)\n",
    "$$\n",
    "\n",
    "which consists of terms at the fundamental frequency of the ac system and harmonics of order $6 k \\pm 1, \\mathrm{k}=1,2,3, \\ldots$"
   ]
  },
  {
   "cell_type": "markdown",
   "metadata": {},
   "source": [
    "### PULSED WAVEFORM (FIG. F-4)\n",
    "\n",
    "<br><br/>\n",
    "<p align=\"center\"><img src=\"images/pulsed_waveform.png\" style=\"width:39%\"></p>\n",
    "<center> Figure F-4.$\\quad$ A pulsed waveform. </center>\n",
    "<br><br/>\n",
    "<br><br/>\n",
    "\n",
    "$$\\begin{array}{l}\n",
    "a_{0}=V_{m} D \\\\\n",
    "a_{n}=\\left(\\frac{V_{m}}{n \\pi}\\right) \\sin (n 2 \\pi D) \\\\\n",
    "b_{n}=\\left(\\frac{V_{m}}{n \\pi}\\right)[1-\\cos (n 2 \\pi D)] \\\\\n",
    "C_{n}=\\left(\\frac{\\sqrt{2} V_{m}}{n \\pi}\\right) \\sqrt{1-\\cos (n 2 \\pi D)}\n",
    "\\end{array}$$"
   ]
  },
  {
   "cell_type": "markdown",
   "metadata": {},
   "source": [
    "### SQUARE WAVEFORM (FIG. F-5)\n",
    "\n",
    "<br><br/>\n",
    "<p align=\"center\"><img src=\"images/square_wave_form.png\" style=\"width:39%\"></p>\n",
    "<center> Figure F-5.$\\quad$ Square wave form.</center>\n",
    "<br><br/>\n",
    "<br><br/>\n",
    "\n",
    "The Fourier series contains the odd harmonics and can be represented as\n",
    "\n",
    "$$\n",
    "v_{o}(t)=\\sum_{n \\text { odd }}\\left(\\frac{4 V_{\\mathrm{dc}}}{n \\pi}\\right) \\sin \\left(n \\omega_{0} t\\right)\n",
    "$$"
   ]
  },
  {
   "cell_type": "markdown",
   "metadata": {},
   "source": [
    "### MODIFIED SQUARE WAVE (FIG. F-6)\n",
    "\n",
    "<br><br/>\n",
    "<p align=\"center\"><img src=\"images/modified_square_wave.png\" style=\"width:39%\"></p>\n",
    "<center> Figure F-6.$\\quad$ A modified square wave.</center>\n",
    "<br><br/>\n",
    "<br><br/>\n",
    "\n",
    "The Fourier series of the waveform is expressed as\n",
    "\n",
    "$$\n",
    "v_{o}(t)=\\sum_{n \\text { odd }} V_{n} \\sin \\left(n \\omega_{0} t\\right)\n",
    "$$\n",
    "\n",
    "Taking advantage of half-wave symmetry, the amplitudes are\n",
    "\n",
    "$$\n",
    "V_{n}=\\left(\\frac{4 V_{\\mathrm{dc}}}{n \\pi}\\right) \\cos (n \\alpha)\n",
    "$$\n",
    "\n",
    "where $\\alpha$ is the angle of zero voltage on each end of the pulse."
   ]
  },
  {
   "cell_type": "markdown",
   "metadata": {},
   "source": [
    "### THREE-PHASE SIX-STEP INVERTER (FIG. F-7)\n",
    "\n",
    "<br><br/>\n",
    "<p align=\"center\"><img src=\"images/ThreePhase_sixStep_inverter.png\" style=\"width:39%\"></p>\n",
    "<center> Figure F-7$\\quad$ Three-phase six-step inverter output.</center>\n",
    "<br><br/>\n",
    "<br><br/>\n",
    " \n",
    "\n",
    "The Fourier series for the output voltage has a fundamental frequency equal to the switching frequency. Harmonic frequencies are of order $6 k \\pm 1$ for $k=1$, $2, \\ldots(n=5,7,11,13, \\ldots) .$ The third harmonic and multiples of the third do not\n",
    "exist, and even harmonics do not exist. For an input voltage of $V_{\\mathrm{dc}},$ the output for an ungrounded wye-connected load (see Fig. $8-17$ ) has the following Fourier coefficients:\n",
    "\n",
    "$$\n",
    "\\begin{array}{l}\n",
    "V_{n, \\mathrm{L}-\\mathrm{L}}=\\left|\\frac{4 V_{\\mathrm{dc}}}{n \\pi} \\cos \\left(n \\frac{\\pi}{6}\\right)\\right| \\\\\n",
    "V_{n, \\mathrm{L}-\\mathrm{N}}=\\left|\\frac{2 V_{\\mathrm{dc}}}{3 n \\pi}\\left[2+\\cos \\left(n \\frac{\\pi}{3}\\right)-\\cos \\left(n \\frac{2 \\pi}{3}\\right)\\right]\\right| \\quad n=1,5,7,11,13, \\ldots\n",
    "\\end{array}\n",
    "$$"
   ]
  }
 ],
 "metadata": {
  "kernelspec": {
   "display_name": "Python 3",
   "language": "python",
   "name": "python3"
  },
  "language_info": {
   "codemirror_mode": {
    "name": "ipython",
    "version": 3
   },
   "file_extension": ".py",
   "mimetype": "text/x-python",
   "name": "python",
   "nbconvert_exporter": "python",
   "pygments_lexer": "ipython3",
   "version": "3.7.6"
  }
 },
 "nbformat": 4,
 "nbformat_minor": 2
}
