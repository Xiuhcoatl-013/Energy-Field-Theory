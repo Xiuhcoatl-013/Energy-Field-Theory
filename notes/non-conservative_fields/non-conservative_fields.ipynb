{
 "cells": [
  {
   "cell_type": "markdown",
   "metadata": {},
   "source": [
    "# Non-Conservative Fields  [In Circuit]"
   ]
  },
  {
   "cell_type": "markdown",
   "metadata": {},
   "source": [
    "##  [Do Not Trust Your Intuition!]\n",
    "\n",
    "The following notes may help you to digest the very non-intuitive consequences of Faraday's Law.\n",
    "\n",
    "<br><br/>\n",
    "<p align=\"center\"><img src=\"images/changing_magnetic_flux_circuit1.png\" style=\"width:70%\"></p>\n",
    "<center> Figure. 1.$\\quad$ Changing Magnetic Flux Circuit. </center>\n",
    "<br><br/>\n",
    "<br><br/>\n",
    "\n",
    "A magnetic field is present in the shaded area; it is perpendicular to the page, and it is changing in time. There are two identical voltmeters $V_{1}$ and $V_{2},$ and two resistors $R_{1}$ and $R_{2}$; the internal resistance of each voltmeter, $R_{i}$, is much much larger than $R_{1}$ and $R_{2}$. All connecting wires have a negligible resistance.\n",
    "\n",
    "Lets identify three __closed loops__ are in this circuit: the left loop with voltmeter $V_{1}$ and resistor $R_{1}$, the middle loop with the two resistors, and the right loop with voltmeter $V_{2}$ and resistor $R_{2}$. Also lets call the currents in these loops $I_{1}(t)$, $I(t)$, and $I_{2}(t)$, respectively (see the diagram). Assuming that at time $t$ the current in each loop is clockwise. If one (or more) of the currents turns out to be negative, it simply means that that current is counter clockwise.\n",
    "\n",
    "In both the left and right closed loop Kirchhoff's 2nd rule may apply:\n",
    "\n",
    "$$\n",
    "\\oint \\vec{E} \\cdot d \\vec{l}=0\n",
    "$$   [Eq. 1]\n",
    "\n",
    "However, in the middle closed loop this rule can __NOT__ be used; instead Faraday's Law now __MUST__ be used, which ALWAYS holds, it could also has used Faraday's Law for the left and right loops (the right side of Faraday's Law would then have been zero):\n",
    "\n",
    "$$\n",
    "\\oint \\vec{E} \\cdot d \\vec{l}=\\mathcal{E}(t)=-\\frac{d \\phi_{B}}{d t}\n",
    "$$   [Eq. 2]\n",
    "\n",
    "> __NOTICE: the induced EMF, $\\mathcal{E},$ only depends on the magnetic flux change through any open surface that is attached to the closed loop, thus it depends on the change in the $B$ field in the shaded area (since it may be choosen any open surface, a suggestin is to choose a flat surface that lies in the plane containing the circuit). $\\mathcal{E}$ is therefore independent of $R_{1}$ and $R_{2}$__\n",
    "\n",
    "Applying the above equations, starting at $\\mathrm{A}$, and going clockwise around each loop separately, is obtained:\n",
    "\n",
    "Left loop [Eq. 1] \n",
    "\n",
    "$$\n",
    "I_{1} R_{i}+I_{1} R_{1}-I R_{1}=0\n",
    "$$   [Eq. 3]\n",
    " \n",
    "Middle loop [eq. 2] \n",
    "\n",
    "$$\n",
    "\\mathrm{IR}_{1}+\\mathrm{IR}_{2}-\\mathrm{I}_{1} \\mathrm{R}_{1}-\\mathrm{I}_{2} \\mathrm{R}_{2}=\\mathcal{E}\n",
    "$$   [Eq. 4] \n",
    " \n",
    "Right loop [Eq. 1] \n",
    "\n",
    "$$\n",
    "\\mathrm{I}_{2} \\mathrm{R}_{2}-\\mathrm{IR}_{2}+\\mathrm{I}_{2} \\mathrm{R}_{i}=0\n",
    "$$   [Eq. 5]\n",
    " \n",
    "$R_{i} \\gg R_{1}$ and $R_{i} \\gg R_{2},$ therefore $I_{1} \\ll I$ and $I_{2} \\ll I,$ and these equations can be simplified:\n",
    " \n",
    "$$\n",
    "\\mathrm{I}_{1} \\mathrm{R}_{i}-\\mathrm{IR}_{1} \\approx 0\n",
    "$$   [Eq. 6]\n",
    " \n",
    "$$\n",
    "\\mathrm{I}\\left(\\mathrm{R}_{1}+\\mathrm{R}_{2}\\right) \\approx \\mathcal{E}\n",
    "$$   [Eq. 7]\n",
    " \n",
    "$$\n",
    "\\mathrm{I}_{2} \\mathrm{R}_{i}-\\mathrm{IR}_{2} \\approx 0\n",
    "$$   [Eq. 8]\n",
    "\n",
    "Each voltmeter will show a reading which depends on the current through that meter ($I_{1}$. through the voltmeter on the left, and $I_{2}$ through the voltmeter on the right). The scales of the meters have been calibrated to show a voltage which is the product of the current through the meter and the internal resistance of that meter. Thus the left voltmeter will read $\\left|\\mathrm{V}_{1}\\right|=\\mathrm{I}_{1} \\mathrm{R}_{i},$ and the right voltmeter will read $\\left|V_{2}\\right|=I_{2} R_{i} .$ by substituting this in [eqs. 6] and [Eq. 8] it is finded:\n",
    "\n",
    "\n",
    "$$\n",
    "\\left|V_{1}\\right|=I_{1} R_{i} \\approx I R_{1}\n",
    "$$   [Eq. 9]\n",
    "\n",
    "and\n",
    "\n",
    "$$\n",
    "\\left|\\mathrm{V}_{2}\\right|=\\mathrm{I}_{2} \\mathrm{R}_{i} \\approx \\mathrm{IR}_{2}\n",
    "$$   [Eq. 10]\n",
    "\n",
    "Connecting the \" $+$\" side of both voltmeters with the $\\mathrm{A-side}$ in the diagram (and the \"$-$\" side with the $\\mathrm{D-side}$), the recorded values of $V_{1}$ and $V_{2}$ at any point in time will be __opposite__ in sign. This is immediately obvious when you realize that a clockwise current $I$ dictates a clockwise current $I_{1}$ as well as a clockwise current $I_{2}$ (this follows from [Eq. 6] and [Eq. 8]; $I$, $I_{1}$ and $I_{2}$ always have the same sign). This means that when the current goes through the left voltmeter from its \"$+$\" side ($\\mathrm{A}$) to its \"$-$\" side ($\\mathrm{D}$), thus when it will indicate a \"positive\" voltage, that the current through the right voltmeter then goes from its \"$-$\" side ($\\mathrm{D}$) to its \"$+$\" side ($\\mathrm{A}$), and thus its voltage reading will be \"negative\".\n",
    "\n",
    "If $R_{1}$ and $R_{2}$ are known, for given $\\mathcal{E}$ (at a given point in time; see [Eq. 2]), the current $I$ can be calculated from [Eq. 7], and the voltage readings follow from [Eq. 9] and [Eq. 10], but they will have an opposite sign. __Notice__ that $\\left|\\mathrm{V}_{2} / \\mathrm{V}_{1}\\right| \\approx \\mathrm{R}_{2} / \\mathrm{R}_{1}$ (independent of $\\bar{I}$ )."
   ]
  },
  {
   "cell_type": "markdown",
   "metadata": {},
   "source": [
    "## Example\n",
    "Suppose: $\\mathcal{E}=1$ Volt (at a given instant in time when the magnetic flux, coming out of the circuit's plane, is increasing), $R_{1}=100 \\Omega, R_{2}=900 \\Omega,$ and $R_{i}=10^{7} \\Omega,$ then, using eq. $(7),$ it is  finded $I \\approx 1.0 \\times 10^{-3} \\mathrm{A}$ (clockwise), and using [Eq. 9] and [Eq. 10], finding $\\left|\\mathrm{V}_{1}\\right| \\approx \\frac{1}{10}$ Volt, and $\\left|\\mathrm{V}_{2}\\right| \\approx \\frac{9}{10}$ Volt, __and the polarities of $\\mathbf{V}_{1}$ and $\\mathbf{V}_{2}$ are opposite!__\n",
    "\n",
    "In case the interest is put in $I_{1}$ and $I_{2},$ using [Eq. 9], it is finded $I_{1} \\approx 1.0 \\times 10^{-8} \\mathrm{A},$ and using [Eq. 10], finding $\\mathrm{I}_{2} \\approx 9.0 \\times 10^{-8} \\mathrm{A}$. Notice how small they both are in comparison with $I$. Both $I_{1}$ and $I_{2}$ are in clockwise direction.\n",
    "\n",
    "If $R_{1}$ were $5 \\Omega,$ and $R_{2}$ were $45 \\Omega,$ (thus both 20 times smaller than above), $I$ would be about $2.0 \\times 10^{-2} \\mathrm{A}$ (20 times higher than above), but the values for $V_{1}$ and $V_{2}$ would be the same as before!\n",
    "\n",
    "Thus, for the given ratio $\\mathrm{R}_{2} / \\mathrm{R}_{1}=9,$ at any time\n",
    "$\\left|\\mathrm{V}_{2}\\right| \\approx \\frac{9}{10} \\mathcal{E}$ and $\\left|\\mathrm{V}_{1}\\right| \\approx \\frac{1}{10} \\mathcal{E},$ __but the polarities are always opposite!__"
   ]
  },
  {
   "cell_type": "markdown",
   "metadata": {},
   "source": [
    "## Summary.\n",
    "\n",
    "If \"traveling\" from $\\mathrm{A}$ to $\\mathrm{D}$ through the resistor $R_{1},$ the \"potential difference\"[1]() between $\\mathrm{A}$ and $\\mathrm{D}$ is $\\approx I R_{1}$ __($\\mathrm{A}$ has a higher \"potential\"[1]() than $\\mathrm{D}$ )__, and this value $\\left(V_{A}-V_{D}\\right)$ is registered by the left voltmeter. If the \"journey\" continues through $R_{2},$ back to $\\mathrm{A}$, the \"potential difference\"[1]() between $\\mathrm{D}$ and $\\mathrm{A}$ is $\\approx$ IR $_{2}$ __($\\mathrm{D}$ has a higher \"potential\"[1]() than $\\mathbf{A}$ )__, and this value $\\left(\\mathrm{V}_{D}-\\mathrm{V}_{A}\\right)$ is registered by the right voltmeter. Thus, once the closed loop journey in the middle loop has been completed, starting at $\\mathrm{A}$, and ending at $\\mathrm{A}$, the \"potential difference\"[1]() $\\mathrm{V}_{A}-\\mathrm{V}_{A} \\neq 0$. Isn't that weird? __NO__, notice [Eq. 2]!\n",
    "\n",
    "> _In __Non-Conservative Fields__, the electric potential difference[1](), if one defines this as the integral of $\\vec{E} \\cdot d \\vec{l}$ between two points, depends on the path, the human intuition breaks down completely._\n",
    "\n",
    "Hoping the lecture note was helpful, this is not easy!\n",
    "<br><br/>\n",
    "<br><br/>\n",
    "<br><br/>"
   ]
  },
  {
   "cell_type": "markdown",
   "metadata": {},
   "source": [
    "[1]() In non-conservative fields it may be better not to use the words \"potential difference,\" but instead, one should say \"the line integral of $\\vec{E} \\cdot d \\vec{l}$ along a specified path.\""
   ]
  }
 ],
 "metadata": {
  "kernelspec": {
   "display_name": "Python 3",
   "language": "python",
   "name": "python3"
  },
  "language_info": {
   "codemirror_mode": {
    "name": "ipython",
    "version": 3
   },
   "file_extension": ".py",
   "mimetype": "text/x-python",
   "name": "python",
   "nbconvert_exporter": "python",
   "pygments_lexer": "ipython3",
   "version": "3.7.6"
  }
 },
 "nbformat": 4,
 "nbformat_minor": 4
}
