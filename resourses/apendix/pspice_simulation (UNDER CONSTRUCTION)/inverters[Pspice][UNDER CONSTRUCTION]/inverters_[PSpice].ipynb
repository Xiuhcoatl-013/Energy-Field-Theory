{
 "cells": [
  {
   "cell_type": "markdown",
   "metadata": {},
   "source": [
    "# Inverter Pspice Simulation"
   ]
  },
  {
   "cell_type": "markdown",
   "metadata": {},
   "source": [
    "## PSPICE Simulation of Square-Wave Inverters\n",
    "Computer simulation of inverter circuits can include various levels of circuit\n",
    "detail. If only the current waveform in the load is desired, it is sufficient to provide a source that will produce the appropriate voltage that would be expected on the inverter output. For example, a full-bridge inverter producing a square wave output might be replaced with a square wave voltage source using the VPULSE source. This simplified simulation will predict the behavior of the current in the load but will give no direct information about the switches. Also, this approach assumes that the switching operation correctly produces the desired output.\n",
    "\n",
    "<br><br/>\n",
    "<p align=\"center\"><img src=\"images/Pspice_Square_Wave_Inverter.png\" style=\"width:50%\"></p>\n",
    "<center> Figure 08004.$\\quad$ (a) Square-wave inverter simulation using an ideal source; (b) Square-wave inverter using switches and diodes. </center>\n",
    "<br><br/>\n",
    "<br><br/>"
   ]
  },
  {
   "cell_type": "markdown",
   "metadata": {},
   "source": [
    "# 08014 SIMULATION OF PULSE-WIDTH-MODULATED INVERTERS\n",
    "\n",
    "# 08016 PSPICE SIMULATION OF THREE-PHASE\n",
    "INVERTERS\n",
    "\n",
    "# Figure\n",
    "<br><br/>\n",
    "<p align=\"center\"><img src=\"images/six-step_inverter_using_switches_and_diodes.png\" style=\"width:50%\"></p>\n",
    "<center> Figure 08031.$\\quad$ (a) A six-step inverter using switches and diodes (requires the full PSpice version); (b) A PSpice circuit for generating three-phase six-step converter voltages. </center>\n",
    "<br><br/>\n",
    "<br><br/>\n",
    "\n",
    "# Figure\n",
    "<br><br/>\n",
    "<p align=\"center\"><img src=\"images/pspice_circuit_three-phase_pwm.png\" style=\"width:50%\"></p>\n",
    "<center> Figure 08032.$\\quad$ A PSpice functional circuit for generating three-phase PWM voltages. </center>\n",
    "<br><br/>\n",
    "<br><br/>"
   ]
  }
 ],
 "metadata": {
  "kernelspec": {
   "display_name": "Python 3",
   "language": "python",
   "name": "python3"
  },
  "language_info": {
   "codemirror_mode": {
    "name": "ipython",
    "version": 3
   },
   "file_extension": ".py",
   "mimetype": "text/x-python",
   "name": "python",
   "nbconvert_exporter": "python",
   "pygments_lexer": "ipython3",
   "version": "3.7.6"
  }
 },
 "nbformat": 4,
 "nbformat_minor": 2
}
