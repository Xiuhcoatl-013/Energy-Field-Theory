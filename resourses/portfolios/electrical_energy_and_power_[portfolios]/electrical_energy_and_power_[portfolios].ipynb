{
 "cells": [
  {
   "cell_type": "markdown",
   "metadata": {},
   "source": [
    "# Electrical Energy and Power [Portfolios]"
   ]
  },
  {
   "cell_type": "markdown",
   "metadata": {},
   "source": [
    "__Example 1. RMS Values of Square Pulse__\n",
    "Calculate how long it takes an electron to get from a car battery to the starter motor after the ignition switch is turned. Assume that the current flowing is 115 A, and that the electrons travel through copper wire with cross-sectional area 31.2mm² and length 85.5 cm. What is the current density in the wire? The number density of the conduction electrons in copper is 8.49x10²⁸ e/m³ . Given this number density and the current density, what is the drift speed of the electrons? How long does it take for an electron starting at the battery to reach the starter motor?\n",
    "\n",
    "\n",
    "> __■ Solution__\n",
    ">\n",
    "> $3.69 \\times 10^{6} \\mathrm{A} / \\mathrm{m}^{2}, 2.71 \\times 10^{-4} \\mathrm{m} / \\mathrm{s}, 52.5 \\mathrm{min}$ "
   ]
  }
 ],
 "metadata": {
  "kernelspec": {
   "display_name": "Python 3",
   "language": "python",
   "name": "python3"
  },
  "language_info": {
   "codemirror_mode": {
    "name": "ipython",
    "version": 3
   },
   "file_extension": ".py",
   "mimetype": "text/x-python",
   "name": "python",
   "nbconvert_exporter": "python",
   "pygments_lexer": "ipython3",
   "version": "3.7.6"
  }
 },
 "nbformat": 4,
 "nbformat_minor": 2
}
