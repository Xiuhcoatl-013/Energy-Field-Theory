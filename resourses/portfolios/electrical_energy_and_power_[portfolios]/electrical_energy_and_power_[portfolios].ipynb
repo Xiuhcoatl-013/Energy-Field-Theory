{
 "cells": [
  {
   "cell_type": "markdown",
   "metadata": {},
   "source": [
    "# Electrical Energy and Power [Portfolios]"
   ]
  },
  {
   "cell_type": "markdown",
   "metadata": {},
   "source": [
    "__Example 1. Eelectron Travel Time__\n",
    "Calculate how long it takes an electron to get from a car battery to the starter motor after the ignition switch is turned. Assume that the current flowing is 115 A, and that the electrons travel through copper wire with cross-sectional area 31.2mm² and length 85.5 cm. What is the current density in the wire? The number density of the conduction electrons in copper is 8.49x10²⁸ e/m³ . Given this number density and the current density, what is the drift speed of the electrons? How long does it take for an electron starting at the battery to reach the starter motor?\n",
    "\n",
    "\n",
    "> __■ Solution__\n",
    ">\n",
    "> $3.69 \\times 10^{6} \\mathrm{A} / \\mathrm{m}^{2}, 2.71 \\times 10^{-4} \\mathrm{m} / \\mathrm{s}, 52.5 \\mathrm{min}$ "
   ]
  },
  {
   "cell_type": "markdown",
   "metadata": {},
   "source": [
    "__Example 2. Why does the divergence of the Poynting vector have energy flux density?__ The poynting vector is defined as\n",
    "\n",
    "$$\n",
    "\\vec{S}=\\mu_{0}^{-1} \\vec{E} \\times \\vec{B}\n",
    "$$\n",
    "\n",
    "Taking the divergence of the poynting vector, after some algebraic manipulation eventually one arrives at\n",
    "\n",
    "$$\n",
    "\\vec{\\nabla} \\cdot \\vec{S}=-\\frac{\\partial u}{\\partial t}=0\n",
    "$$\n",
    "\n",
    "Note $u$ is the electromagnetic energy density.\n",
    "The claim is that the $\\vec{\\nabla} \\cdot \\vec{S}$ is an energy flux density.\n",
    "How to see is this true?\n",
    "\n",
    "> __■ Solution__\n",
    ">\n",
    "> The converse is not a \"theorem\" in that it can't be proved that it is true, even assuming Maxwell's equations as axioms. It is simply a __\"hunch\"__ that $|\\vec{S}|$ represents the power intensity and $U=\\frac{1}{2} \\epsilon|\\vec{E}|^{2}+\\frac{1}{2} \\mu|\\vec{H}|^{2}$ the energy density. What it can proved (and what is already understanded) from Maxwell's equations is that:\n",
    "> \n",
    "> 1. $\\vec{S}$ is the flux of $U$ since the pair together fulfill a continuity equation in source free zones: where there are sources, the difference between $\\vec{S}$ and\n",
    "the time rate of change of $U$ can be shown to be the rate of working of electric fields on currents (the $\\vec{E} \\cdot \\vec{J}$ term $)$\n",
    "> \n",
    "> 2. If $U$ integrated over all space can be defined (i.e. a convergent integral) then $U$ is constant if $\\epsilon$ and $\\mu$ are real (i.e. no absorbing materials) and there are no sources, or that its rate of change equals the rate of working of the $\\vec{E}$ field (the integrated $\\vec{E} \\cdot \\vec{J}$ term ) if there are sources.\n",
    "> \n",
    "> So the pair together behave exactly as an energy density and its flux vector ought to. Therefore it is postulated that they are the energy density and its flux vector and, so far, no experimental result has failed in real life (photon experiments at femntometer level)[[1](https://github.com/Xiuhcoatl-013/Energy-Field-Theory/blob/master/resourses/portfolios/electrical_energy_and_power_[portfolios]/references/Gauge%20and%20Higgs%20Bosons%20[report].pdf)] to agree with calculations made assuming this postulate.\n",
    "\n",
    "<br><br/>\n",
    "<br><br/>\n",
    "<br><br/>\n",
    "[[1](https://github.com/Xiuhcoatl-013/Energy-Field-Theory/blob/master/resourses/portfolios/electrical_energy_and_power_[portfolios]/references/Gauge%20and%20Higgs%20Bosons%20[report].pdf)] For visible light, the energy carried by a photon is about $ 3.44 x 10 -19 $ joules; This energy is enough to excite the photosensitive eye cells and lead to vision. The universally accepted upper limits on photon charge and mass are $5 \\times 10^{-52} \\mathrm{C}$ ( $0.3 \\times 10^{-33}$ for elemental charge) and $1.1 \\times 10^{-52} \\mathrm{kg}\\left(6 \\times 10^{-17} \\mathrm{eV} / \\mathrm{c}^{2}\\right)$, respectively."
   ]
  },
  {
   "cell_type": "code",
   "execution_count": null,
   "metadata": {},
   "outputs": [],
   "source": []
  }
 ],
 "metadata": {
  "kernelspec": {
   "display_name": "Python 3",
   "language": "python",
   "name": "python3"
  },
  "language_info": {
   "codemirror_mode": {
    "name": "ipython",
    "version": 3
   },
   "file_extension": ".py",
   "mimetype": "text/x-python",
   "name": "python",
   "nbconvert_exporter": "python",
   "pygments_lexer": "ipython3",
   "version": "3.7.6"
  }
 },
 "nbformat": 4,
 "nbformat_minor": 2
}
