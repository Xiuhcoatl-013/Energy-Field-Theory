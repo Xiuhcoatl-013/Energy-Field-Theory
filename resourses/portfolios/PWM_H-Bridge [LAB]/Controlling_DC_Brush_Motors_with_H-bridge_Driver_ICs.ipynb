{
 "cells": [
  {
   "cell_type": "markdown",
   "metadata": {},
   "source": [
    "# Controlling DC Brush Motors with H-bridge Driver ICs"
   ]
  },
  {
   "cell_type": "markdown",
   "metadata": {},
   "source": [
    "# Objective\n",
    "\n",
    "The Objective of this laboratory is to get knowledge in the dsign, funcitonality and use of a full H-Bridge for the driving of a DC motro angular speed.\n",
    "\n",
    "\n",
    "# Materials\n",
    "Principales Materiales a Utilizar. Osciloscope, multimeter, signal generator, regulated voltage source, CD motor, MOSFETS transistors, capacitors, resistors, bread board for electronic circuit prototaping.\n"
   ]
  },
  {
   "cell_type": "markdown",
   "metadata": {},
   "source": [
    "# Introduction\n",
    "\n",
    "DC brush motors are increasingly required for a broad range of applications including robotics, portable electronics, sporting equipment, appliances, medical devices, automotive applications, power tools and many others. The motor itself is a preferred alternative because it is simple, reliable and low cost. Equally important, advanced, fully-integrated “H-bridge” driver ICs are available to control the motor’s direction, speed and braking. This lab will explore the basics of H-bridge drivers and discuss the advancement of the technology from discrete solutions to highly-integrated ICs. It will compare linear motor speed control with more advanced, higher-efficiency pulse-width modulation (PWM) techniques."
   ]
  },
  {
   "cell_type": "markdown",
   "metadata": {},
   "source": [
    "# H-bridge Basics\n",
    "\n",
    "The H-bridge circuit derives its name from the full-bridge circuit shown in Figure 1. The motor forms the cross-piece in the “H.” Speed and direction are controlled as current flows through the motor in the direction determined by the position of the switches in the bridge. In this example, with switches “A” and “D” closed, the motor will operate in a clockwise (CW) direction. With “B” and “C” closed, the motor will operate in the counterclockwise (CCW) direction.\n",
    "\n",
    "<br><br/>\n",
    "<p align=\"center\"><img src=\"images/Simplified H-bridge Schematic.png\" style=\"width:25%\"></p>\n",
    "<center> Figure 1. Simplified H-bridge Schematic. </center>\n",
    "<br><br/>\n",
    "\n",
    "In the linear output control implementation, the motor speed control is determined by the voltage applied across the motor. In the PWM implementation, the speed is controlled by the width of series of pulses of equal voltage. In either case, motor direction is controlled via separate logic inputs.\n",
    "\n",
    "While the concept is simple, implementation is anything but simple if discrete components are employed. Controlling the operation of the switches and preventing simultaneous closure of the CW and CCW control outputs, particularly when reversing the direction of the motor or changing speed by dynamic braking requires an H-bridge controller. The H-bridge controller is then connected to four devices forming the legs of the bridge. In a discrete solution the designer must deal with voltage control levels, timing to prevent shoot-through. The Shoot through current usually leads to catastrophic damage in an H Bridge. Shoot through happens when both the High Side and Low Side Power MOSFETs or IGBTs are ON at the same time. Even in well-designed systems logic propagation, delays and MOSFET gate capacitances can create a situation where both the High and Low Side devices are concurrently switched ON. When this condition occurs the current flows directly to ground and bypasses the load. The discrete solution also requires additional circuitry for functions including overvoltage, overcurrent, overtemperature and electrostatic discharge (ESD) protection and the proper selection of the semiconductor switches.\n",
    "\n",
    "All of this translates to a fairly complex design process resulting in a higher component count, larger footprint, and less reliable design solution than a fully-integrated LSI circuit solution."
   ]
  },
  {
   "cell_type": "markdown",
   "metadata": {},
   "source": [
    "# H-bridge Driver Topology\n",
    "\n",
    "Integrated H-bridge drivers are constructed by combining a controller, output drivers and protection circuits into a single package. The first H-bridge drivers used bipolar power transistors and bipolar control circuitry. The bipolar outputs were typically operated in the linear mode to provide speed control. Simple IC processing made the circuit practical even though die sizes were large to optimize power dissipation. A limitation of the bipolar output devices was higher power dissipation, especially in the speed control mode.\n",
    "\n",
    "The use of power MOSFETs for the output devices was a natural transition for H-bridge drivers. In addition to the lower losses for a given voltage rating and smaller die size, voltage-controlled MOSFETs are easier to drive than the current-driven bipolar switches, facilitating efficient PWM control. In addition to higher efficiency, PWM provides tighter motor speed control as well as faster response. BiCMOS design for the control portion takes advantages of the strengths of bipolar and CMOS design providing high drive capability and low power dissipation. A comparison of the power dissipation characteristics of linear H-bridge drivers vs. the latest PWM output drivers is shown in Figure 2.\n",
    "\n",
    "Ongoing improvements in power MOSFETs have increasingly shrunk the die size to handle a particular voltage and low on-resistance. Today, control circuitry and the four output drivers are offered in surface mount packages comparable to or only slightly larger than only one of the output switches required in a discrete implementation.\n",
    "\n",
    "<br><br/>\n",
    "<p align=\"center\"><img src=\"images/Comparison of Linear vs PWM Implementation.png\" style=\"width:59%\"></p>\n",
    "<center> Figure 2. Comparison of linear vs. PWM implementation. In the linear implementation, at anything but full speed, the voltage drop across the control transistors results in significant power dissipation. </center>\n",
    "<br><br/>\n",
    "\n",
    "In summary, the H-bridge motor driver IC provides a monolithic solution to the control and output functions required to control the direction and speed of DC brush motors. Allowing Designers to utilize a variety of control strategies, both analog and digital, while providing the precision and efficiency of PWM control."
   ]
  },
  {
   "cell_type": "markdown",
   "metadata": {},
   "source": [
    "# The Ideal H-bridge Driver\n",
    "\n",
    "Figure 3 shows a block diagram of the functional elements. To handle either analog or digital inputs, the unit provides dual-mode speed control. $V_{\\mathrm{REF}}$ provides the analog input. The chip converts the linear input at $V_{\\mathrm{REF}}$ into efficient speed control using its internal PWM conversion circuitry. $F_{IN}$ and $R_{IN}$ are used with a microcontroller (MCU) or other digital logic inputs to control direction and speed.\n",
    "\n",
    "The control logic takes input from the analog and digital source and efficiently controls the forward / reverse directions, speed and braking of the motor by switching the appropriate integrated power MOSFETs. P-Channel / N-Channel high-power CMOS output provides low on-resistance without requiring a charge pump and the associated external capacitors needed for the N-Channel MOSFETs in the high side switches common in many integrated H-bridge drivers. Rugged recovery diodes built into the structure eliminate the need for additional external recovery diodes. Combined bipolar and CMOS processing in a single chip design could achieves less than 1 μA current likage in standby mode. This is an important consideration for portable, battery-powered applications.\n",
    "\n",
    "To protect the motor and the driver, protective circuitry should includes:\n",
    "\n",
    "* Overvoltage protection (OVP)\n",
    "* Undervoltage lockout (UVLO)\n",
    "* Overcurrent protection (OCP)\n",
    "* Thermal shutdown (TSD)\n",
    "* Overlap (shoot-through) protection\n",
    "* High ESD protection (3-4 KV)\n",
    "\n",
    "<br><br/>\n",
    "<p align=\"center\"><img src=\"images/The Ideal H-bridge Driver.png\" style=\"width:90%\"></p>\n",
    "<center> Figure 3. The ideal H-bridge driver includes flexibility for analog or digital operation and extensive protection circuitry. </center>\n",
    "<br><br/>\n",
    "\n",
    "Over- and undervoltage circuits keep the IC within its proper voltage operating range. OCP limits the current draw and essentially shuts the device down by forcing all driver outputs into a high impedance state in the event of a short circuit or other excessive current event such as a locked rotor. TSD protection can provide longer term protection when the chip is operating within its current capability but some other fault has occurred, such as an extremely high operating temperature environment or loss of adequate cooling in an enclosure or a deteriorated heatsink path.\n",
    "\n",
    "From a timing standpoint, OCP is fast response protection and TSD is slower. For example, TSD provides back-up protection for faults that OCP cannot detect such as a soft short that is within the current limit but still causes an excessive temperature rise. OCP protects the MOSFET outputs and TSD protects the die. If the die temperature exceeds a predetermined limit, such as 175 ºC, the IC will shut off.\n",
    "\n",
    "For every H-bridge application, overlap timing circuitry is required to prevent shoot-through current spikes when switching direction or applying dynamic breaking.\n",
    "\n",
    "If an MCU is used to directly control the output devices, a program must be written to ensure proper timing to avoid shoot-through problems.\n",
    "\n",
    "A thorough design includes ruggedness to handle unexpected occurrences damaging the driver such as \n",
    "ESD voltages at least in the window of 3-4 KV.\n",
    "\n",
    "\n"
   ]
  },
  {
   "cell_type": "markdown",
   "metadata": {},
   "source": [
    "# PWM Speed Control Techniques Using H-bridge Drivers\n",
    "\n",
    "\n",
    "## Procedure [MCU Control]\n",
    "\n",
    "With an MCU or other digital logic providing the PWM input, a circuit like the one in Figure 4 would be appropriate. The pulse train applied to the $F_{IN}$ and $R_{IN}$ lines controls the direction and the speed digitally from the MCU. Table 1 shows the logic for implementing PWM in the forward and reverse directions as well as brake and idle values. To complete the application, two external decoupling capacitors are connected from $V_{CC}$ to IC ground.\n",
    "\n",
    "<br><br/>\n",
    "<p align=\"center\"><img src=\"images/A Digital MCU for H-bridge Driving.png\" style=\"width:90%\"></p>\n",
    "<center> Figure 4. A digital controller, such as an MCU, can directly drive the control logic circuitry in the H-bridge driver. </center>\n",
    "\n",
    "<br><br/>\n",
    "<p align=\"center\"><img src=\"images/PWM Pulse Train and Logic Inputs to Control.png\" style=\"width:19%\"></p>\n",
    "<center> Table 1. This table shows the application of the PWM pulse train and logic inputs to control speed, direction, and brake and idle status. </center>\n",
    "<br><br/>"
   ]
  },
  {
   "cell_type": "markdown",
   "metadata": {},
   "source": [
    "<br><br/>\n",
    "<p align=\"center\"><img src=\"images/Schematic.png\" style=\"width:90%\"></p>\n",
    "<center> Figure 5. H-Bridge Schematic. </center>\n",
    "\n",
    "<br><br/>\n",
    "<p align=\"center\"><img src=\"images/Fabrication Print.png\" style=\"width:35%\"></p>\n",
    "<center> Figure 6. Fabrication Print. </center>"
   ]
  },
  {
   "cell_type": "markdown",
   "metadata": {},
   "source": [
    "# NE555 Duty Cycle Adjustable Pulse Frequency Square Wave Signal Generator Module\n",
    "\n",
    "This NE555 square wave pulse generator module can be used to produce square wave signals for experimental development or in applications such as driving stepper motors, and as an adjustable pulse generator for microcontroller (MCU) applications.\n",
    "\n",
    "With only 31mm x 31mm (1.2\" x 1.2\") board, is a room enough to features an NE555 timer chip configured in four frequency ranges, 1Hz to 50Hz, 50Hz to 1kHz, 1kHz to 10kHz and 10kHz to 200kHz all adjustable with onboard jumpers and two trim-pots to adjust the output frequency and the duty cycle.\n",
    "\n",
    "Input voltage to the module (VCC) is variable from 5V to 15V DC and draws approximately 15mA at 5v (35mA at 12v) with an output amplitude of 4.2V peak-to-peak to 11.4V peak-to-peak based on the supply voltage.\n",
    "\n",
    "An indicator LED illuminates on a low-level output and flashes relative to the output frequency. At higher frequencies, the LED will appear to be on solid and without a visible flash.\n",
    "\n",
    "<br><br/>\n",
    "<p align=\"center\"><img src=\"images/NE555-schematic.jpg\" style=\"width:75%\"></p>\n",
    "<center> Figure. NE555 Schematic. </center>\n",
    "<br><br/>\n",
    "\n",
    "\n",
    "\n",
    "### Features & Specifications:\n",
    "\n",
    "   * Size: 31mm * 31mm\n",
    "   * Main chip: NE555\n",
    "   * Input Voltage (VCC): 5V-15VDC\n",
    "   * Input current:~100MA\n",
    "   * Output amplitude: 4.2V V-PP to 11.4V V-PP. (Varries with VCC voltage)\n",
    "   * Maximum output current: 15MA (VCC=5V, V-PP greater than 50%), 35MA (VCC=12V, V-PP greater than 50%)\n",
    "   * Output LED indicator (low level, LED is on, high level, LED is off; LED flashes with frequency\n",
    "\n",
    "The output frequency is continuously adjustable using the onboard jumpers and potentiometers. Jumper settings are:\n",
    "\n",
    "   * 1Hz ~ 50Hz\n",
    "   * 50Hz ~ 1kHz\n",
    "   * 1KHz ~ 10kHz\n",
    "   * 10kHz ~ 200kHz\n",
    "   \n",
    "<br><br/>\n",
    "<p align=\"center\"><img src=\"images/NE555-Pulse-Signal-Generator-For-driving-stepper-servo.jpg\" style=\"width:75%\"></p>\n",
    "<center> Figure. NE555 Pulse Signal Generator for driving electric motors </center>\n",
    "<br><br/>\n",
    "\n",
    "##### Note: The output duty cycle can fine-tuned using the onboard potentiometers. Becouse of the circuit simplisity, the duty cycle and frequency are not totally separately adjustable; adjusting the duty cycle will slighting change on the frequency.\n",
    "\n",
    "The output frequency and duty cycle are adjusted using the following variables:\n",
    "\n",
    "   * Period T = 0.7 (RA +2 RB) C\n",
    "   * RA, RB are 0-10K Ohm adjustable potentiometers\n",
    "   * 1Hz ~ 50Hz: C = 0.001UF\n",
    "   * 50Hz ~ 1kHz: C = 0.1UF\n",
    "   * 1KHz ~ 10kHz: C = 1UF\n",
    "   * 10kHz ~ 200kHz: C = 100UF\n",
    "   \n",
    "<br><br/>\n",
    "<p align=\"center\"><img src=\"images/555-working-principle.jpg\" style=\"width:75%\"></p>\n",
    "<center> Figure. 555 Working Principle </center>\n",
    "<br><br/>\n",
    "\n",
    "\n",
    "\n",
    "### Applications:\n",
    "\n",
    "   * As a square wave signal generator for experimental development\n",
    "   * Used to drive a stepper motor for generating a square wave drive signal\n",
    "   * Generate adjustable pulses for microcontrollers (MCU)"
   ]
  },
  {
   "cell_type": "code",
   "execution_count": null,
   "metadata": {},
   "outputs": [],
   "source": []
  }
 ],
 "metadata": {
  "kernelspec": {
   "display_name": "Python 3",
   "language": "python",
   "name": "python3"
  },
  "language_info": {
   "codemirror_mode": {
    "name": "ipython",
    "version": 3
   },
   "file_extension": ".py",
   "mimetype": "text/x-python",
   "name": "python",
   "nbconvert_exporter": "python",
   "pygments_lexer": "ipython3",
   "version": "3.7.6"
  }
 },
 "nbformat": 4,
 "nbformat_minor": 2
}
