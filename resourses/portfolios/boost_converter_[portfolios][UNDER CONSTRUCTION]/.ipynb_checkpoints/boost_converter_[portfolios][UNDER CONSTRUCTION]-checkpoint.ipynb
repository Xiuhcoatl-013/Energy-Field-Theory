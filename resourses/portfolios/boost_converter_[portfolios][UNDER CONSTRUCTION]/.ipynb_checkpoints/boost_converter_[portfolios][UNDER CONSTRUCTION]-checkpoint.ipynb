{
 "cells": [
  {
   "cell_type": "markdown",
   "metadata": {},
   "source": [
    "# Boost Converter [Portfolios]"
   ]
  },
  {
   "cell_type": "markdown",
   "metadata": {},
   "source": [
    "__Example 06010__ Boost Converter with Discontinuous Current\n",
    "The boost converter of Fig. 06008a has parameters\n",
    "\n",
    "$$\n",
    "\\begin{aligned}\n",
    "V_{s} &=20 \\mathrm{V} \\\\\n",
    "D &=0.6 \\\\\n",
    "L &=100 \\mu \\mathrm{H} \\\\\n",
    "R &=50 \\Omega \\\\\n",
    "C &=100 \\mu \\mathrm{F} \\\\\n",
    "f &=15 \\mathrm{kHz}\n",
    "\\end{aligned}\n",
    "$$\n",
    "\n",
    "(a) Verify that the inductor current is discontinuous, (b) determine the output voltage, and (c) determine the maximum inductor current.\n",
    "\n",
    "\n",
    "\n",
    "> Solution\n",
    "(a) First assume that the inductor current is continuous and compute the minimum from [Eq. 06030], resulting in $I_{\\min }=-1.5 A$. Negative inductor current is not possible, indicating discontinuous current.\n",
    "(b) The [Eq. 06102] gives the output voltage\n",
    "> \n",
    "> $$\n",
    "V_{o}=\\frac{V_{s}}{2}\\left(1+\\sqrt{1+\\frac{2 D^{2} R}{L f}}\\right)=\\frac{20}{2}\\left[1+\\sqrt{1+\\frac{2(0.6)^{2}(50)}{100(10)^{-6}(15,000)}}\\right]=60 \\mathrm{V}\n",
    "$$\n",
    "> \n",
    "> Note that a boost converter with the same duty ratio operating with continuous current would have an output of $50 \\mathrm{V}$.\n",
    "(c) The maximum inductor current is determined from [Eq. 06099].\n",
    "> \n",
    "> $$\n",
    "I_{\\max }=\\frac{V_{s} D}{L f}=\\frac{(20)(0.6)}{100(10)^{-6}(15,000)}=8 \\mathrm{A}\n",
    "$$"
   ]
  }
 ],
 "metadata": {
  "kernelspec": {
   "display_name": "Python 3",
   "language": "python",
   "name": "python3"
  },
  "language_info": {
   "codemirror_mode": {
    "name": "ipython",
    "version": 3
   },
   "file_extension": ".py",
   "mimetype": "text/x-python",
   "name": "python",
   "nbconvert_exporter": "python",
   "pygments_lexer": "ipython3",
   "version": "3.7.6"
  }
 },
 "nbformat": 4,
 "nbformat_minor": 2
}
