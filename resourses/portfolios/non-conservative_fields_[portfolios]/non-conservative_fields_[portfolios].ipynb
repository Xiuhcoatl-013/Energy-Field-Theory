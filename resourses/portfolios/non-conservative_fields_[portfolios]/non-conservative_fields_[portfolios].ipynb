{
 "cells": [
  {
   "cell_type": "markdown",
   "metadata": {},
   "source": [
    "# Non-Conservative Fields [Portfolios]"
   ]
  },
  {
   "cell_type": "markdown",
   "metadata": {},
   "source": [
    "__Test 1. Test yourself [for perceiving whether the understandig on this difficult concept]__\n",
    "Calculate what the relative readings of $V_{1}$ and $V_{2}$ are for the diagram below. Notice that the wire that was connecting the left voltmeter with the D-side in the diagram on [Figure 1 - Non-Conservative Fields [In Circuit]](https://github.com/Xiuhcoatl-013/Energy-Field-Theory/blob/master/notes/non-conservative_fields/non-conservative_fields.ipynb), now is again connected with the $\\mathrm{D-side}$, but it is wrapped once around the whole circuit. The small are in the wire above $R_{1}$ indicates that it is not in contact with the horizontal wire with which it appears to intersect due to the 2-dimensional projection. To stress this further it has interrupted the horizontal wire a trifle on either side of the arc. This interruption is not real (it is not refer to a spark-gap or something similar); the horizontal wire is just continuous.\n",
    "\n",
    "<br><br/>\n",
    "<p align=\"center\"><img src=\"images/changing_magnetic_flux_circuit2.png\" style=\"width:70%\"></p>\n",
    "<center> Figure. 2.$\\quad$ Changing Magnetic Flux Circuit 2. </center>\n",
    "<br><br/>\n",
    "<br><br/>\n",
    "\n",
    "> __■ Solution__"
   ]
  },
  {
   "cell_type": "markdown",
   "metadata": {},
   "source": [
    "__Test 2. Test yourself [for perceiving whether the understandig on this difficult concept]__\n",
    "Now wrap that same wire not once around the whole circuit but 100 times before you connect it again on the D-side. Without realizing it, in doing so, it has been building itself some kind of a transformer. What now will the relative readings be between $V_{1}$ and $V_{2}$?\n",
    "\n",
    "> __■ Solution__"
   ]
  }
 ],
 "metadata": {
  "kernelspec": {
   "display_name": "Python 3",
   "language": "python",
   "name": "python3"
  },
  "language_info": {
   "codemirror_mode": {
    "name": "ipython",
    "version": 3
   },
   "file_extension": ".py",
   "mimetype": "text/x-python",
   "name": "python",
   "nbconvert_exporter": "python",
   "pygments_lexer": "ipython3",
   "version": "3.7.6"
  }
 },
 "nbformat": 4,
 "nbformat_minor": 4
}
